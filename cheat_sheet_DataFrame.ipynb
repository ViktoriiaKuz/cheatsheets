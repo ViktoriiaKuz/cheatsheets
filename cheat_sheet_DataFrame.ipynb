{
 "cells": [
  {
   "cell_type": "markdown",
   "source": [
    "--------------------------------------------Создать датафрейм--------------------------------------------"
   ],
   "metadata": {
    "collapsed": false
   },
   "id": "1cfe33ffe7a67ef1"
  },
  {
   "cell_type": "code",
   "execution_count": 218,
   "outputs": [
    {
     "name": "stdout",
     "output_type": "stream",
     "text": [
      "                   0             1            2                3\n",
      "address  Walonska 16  Traugutta 76  Shekspira 7  Saksaganskogo 8\n",
      "name       Viktoriia         Olena    Volodymyr          Oleksii\n",
      "age               28            27           32                3\n"
     ]
    }
   ],
   "source": [
    "import pandas as pd\n",
    "\n",
    "df = [[\"Walonska 16\", \"Traugutta 76\", \"Shekspira 7\", \"Saksaganskogo 8\"], [ \"Viktoriia\", \"Olena\", \"Volodymyr\", \"Oleksii\"], [ 28, 27, 32, 3]]\n",
    "columns = [\"address\",\"name\",\"age\"]\n",
    "df = pd.DataFrame(df, columns)\n",
    "print(df)"
   ],
   "metadata": {
    "collapsed": false,
    "ExecuteTime": {
     "end_time": "2024-01-19T16:29:44.771594300Z",
     "start_time": "2024-01-19T16:29:44.747177400Z"
    }
   },
   "id": "initial_id"
  },
  {
   "cell_type": "code",
   "execution_count": 13,
   "outputs": [
    {
     "name": "stdout",
     "output_type": "stream",
     "text": [
      "     Viktoriia         Olena    Volodymyr          Oleksii\n",
      "0  Walonska 16  Traugutta 76  Shekspira 7  Saksaganskogo 8\n",
      "1           28            27           32                3\n"
     ]
    }
   ],
   "source": [
    "import pandas as pd\n",
    "\n",
    "df = [[\"Walonska 16\", \"Traugutta 76\", \"Shekspira 7\", \"Saksaganskogo 8\"], [ 28, 27, 32, 3]]\n",
    "columns = [\"Viktoriia\", \"Olena\", \"Volodymyr\", \"Oleksii\"]\n",
    "df = pd.DataFrame(df, columns = columns)\n",
    "print(df)"
   ],
   "metadata": {
    "collapsed": false,
    "ExecuteTime": {
     "end_time": "2024-01-19T13:45:46.035812300Z",
     "start_time": "2024-01-19T13:45:46.019452800Z"
    }
   },
   "id": "e3063331354fbd5e"
  },
  {
   "cell_type": "code",
   "execution_count": 220,
   "outputs": [
    {
     "name": "stdout",
     "output_type": "stream",
     "text": [
      "           address       name  age\n",
      "0      Walloons 16  Viktoriia   28\n",
      "1     Traugutta 76      Olena   27\n",
      "2      Shekspira 7  Volodymyr   32\n",
      "3  Saksaganskogo 8    Oleksii    3\n"
     ]
    }
   ],
   "source": [
    "df = [[\"Walloons 16\", \"Viktoriia\", 28], [\"Traugutta 76\" , \"Olena\", 27], [\"Shekspira 7\", \"Volodymyr\", 32], [ \"Saksaganskogo 8\",\"Oleksii\", 3]]\n",
    "columns =  [\"address\",\"name\",\"age\"]\n",
    "df = pd.DataFrame(df, columns = columns)\n",
    "print(df)"
   ],
   "metadata": {
    "collapsed": false,
    "ExecuteTime": {
     "end_time": "2024-01-19T16:29:54.921407500Z",
     "start_time": "2024-01-19T16:29:54.904098900Z"
    }
   },
   "id": "6d1bb222dac4b512"
  },
  {
   "cell_type": "code",
   "execution_count": 219,
   "outputs": [
    {
     "data": {
      "text/plain": "    name  age\n0    Tom   28\n1   Jack   34\n2  Steve   29\n3  Ricky   42",
      "text/html": "<div>\n<style scoped>\n    .dataframe tbody tr th:only-of-type {\n        vertical-align: middle;\n    }\n\n    .dataframe tbody tr th {\n        vertical-align: top;\n    }\n\n    .dataframe thead th {\n        text-align: right;\n    }\n</style>\n<table border=\"1\" class=\"dataframe\">\n  <thead>\n    <tr style=\"text-align: right;\">\n      <th></th>\n      <th>name</th>\n      <th>age</th>\n    </tr>\n  </thead>\n  <tbody>\n    <tr>\n      <th>0</th>\n      <td>Tom</td>\n      <td>28</td>\n    </tr>\n    <tr>\n      <th>1</th>\n      <td>Jack</td>\n      <td>34</td>\n    </tr>\n    <tr>\n      <th>2</th>\n      <td>Steve</td>\n      <td>29</td>\n    </tr>\n    <tr>\n      <th>3</th>\n      <td>Ricky</td>\n      <td>42</td>\n    </tr>\n  </tbody>\n</table>\n</div>"
     },
     "execution_count": 219,
     "metadata": {},
     "output_type": "execute_result"
    }
   ],
   "source": [
    "import pandas as pd\n",
    "data = {'name':['Tom', 'Jack', 'Steve', 'Ricky'],'age':[28,34,29,42]}\n",
    "df = pd.DataFrame(data)\n",
    "df"
   ],
   "metadata": {
    "collapsed": false,
    "ExecuteTime": {
     "end_time": "2024-01-19T16:29:50.583242500Z",
     "start_time": "2024-01-19T16:29:50.546487100Z"
    }
   },
   "id": "6758363967ca3126"
  },
  {
   "cell_type": "markdown",
   "source": [
    "---------------------------------------------проверить тип-----------------------------------------"
   ],
   "metadata": {
    "collapsed": false
   },
   "id": "7c2c4b9cc1959d91"
  },
  {
   "cell_type": "code",
   "execution_count": 27,
   "outputs": [
    {
     "name": "stdout",
     "output_type": "stream",
     "text": [
      "True\n"
     ]
    }
   ],
   "source": [
    "print(isinstance(df, pd.DataFrame))"
   ],
   "metadata": {
    "collapsed": false,
    "ExecuteTime": {
     "start_time": "2024-01-19T13:51:20.594387100Z"
    }
   },
   "id": "c57ca3d493088672"
  },
  {
   "cell_type": "markdown",
   "source": [
    "=============invalid syntax: df[0], df[[0]], df[[:0]], df.loc[1, 1]================"
   ],
   "metadata": {
    "collapsed": false
   },
   "id": "1ad7ec6a5a5e5de2"
  },
  {
   "cell_type": "markdown",
   "source": [
    "-------------------------------------------Достать колонку по имени--------------------------------"
   ],
   "metadata": {
    "collapsed": false
   },
   "id": "89ae6364740e6d5c"
  },
  {
   "cell_type": "code",
   "execution_count": 42,
   "outputs": [
    {
     "data": {
      "text/plain": "   age\n0   28\n1   27\n2   32\n3    3",
      "text/html": "<div>\n<style scoped>\n    .dataframe tbody tr th:only-of-type {\n        vertical-align: middle;\n    }\n\n    .dataframe tbody tr th {\n        vertical-align: top;\n    }\n\n    .dataframe thead th {\n        text-align: right;\n    }\n</style>\n<table border=\"1\" class=\"dataframe\">\n  <thead>\n    <tr style=\"text-align: right;\">\n      <th></th>\n      <th>age</th>\n    </tr>\n  </thead>\n  <tbody>\n    <tr>\n      <th>0</th>\n      <td>28</td>\n    </tr>\n    <tr>\n      <th>1</th>\n      <td>27</td>\n    </tr>\n    <tr>\n      <th>2</th>\n      <td>32</td>\n    </tr>\n    <tr>\n      <th>3</th>\n      <td>3</td>\n    </tr>\n  </tbody>\n</table>\n</div>"
     },
     "execution_count": 42,
     "metadata": {},
     "output_type": "execute_result"
    }
   ],
   "source": [
    "df[['age']]"
   ],
   "metadata": {
    "collapsed": false,
    "ExecuteTime": {
     "end_time": "2024-01-19T13:54:58.490668300Z",
     "start_time": "2024-01-19T13:54:58.460406200Z"
    }
   },
   "id": "357cf8d727ed0a57"
  },
  {
   "cell_type": "code",
   "execution_count": 144,
   "outputs": [
    {
     "data": {
      "text/plain": "0    28\n1    27\n2    32\n3     3\nName: age, dtype: int64"
     },
     "execution_count": 144,
     "metadata": {},
     "output_type": "execute_result"
    }
   ],
   "source": [
    "df['age']"
   ],
   "metadata": {
    "collapsed": false,
    "ExecuteTime": {
     "end_time": "2024-01-19T14:33:30.311074100Z",
     "start_time": "2024-01-19T14:33:30.292006500Z"
    }
   },
   "id": "d0621f4d5dff84e0"
  },
  {
   "cell_type": "code",
   "execution_count": 148,
   "outputs": [
    {
     "data": {
      "text/plain": "0    28\n1    27\n2    32\n3     3\nName: age, dtype: int64"
     },
     "execution_count": 148,
     "metadata": {},
     "output_type": "execute_result"
    }
   ],
   "source": [
    "df[:][\"age\"]"
   ],
   "metadata": {
    "collapsed": false,
    "ExecuteTime": {
     "end_time": "2024-01-19T14:34:19.711181900Z",
     "start_time": "2024-01-19T14:34:19.691029400Z"
    }
   },
   "id": "a109c92584cc3dbd"
  },
  {
   "cell_type": "code",
   "execution_count": 71,
   "outputs": [
    {
     "data": {
      "text/plain": "0    28\n1    27\n2    32\n3     3\nName: age, dtype: int64"
     },
     "execution_count": 71,
     "metadata": {},
     "output_type": "execute_result"
    }
   ],
   "source": [
    "df.loc[:,'age']"
   ],
   "metadata": {
    "collapsed": false,
    "ExecuteTime": {
     "end_time": "2024-01-19T13:59:29.477480600Z",
     "start_time": "2024-01-19T13:59:29.464875Z"
    }
   },
   "id": "2fec338b60fa7e3e"
  },
  {
   "cell_type": "markdown",
   "source": [
    "#колонка по индексу колонок"
   ],
   "metadata": {
    "collapsed": false
   },
   "id": "1994b5aa1a313a03"
  },
  {
   "cell_type": "code",
   "execution_count": 119,
   "outputs": [
    {
     "data": {
      "text/plain": "   age\n0   28\n1   34\n2   29\n3   42",
      "text/html": "<div>\n<style scoped>\n    .dataframe tbody tr th:only-of-type {\n        vertical-align: middle;\n    }\n\n    .dataframe tbody tr th {\n        vertical-align: top;\n    }\n\n    .dataframe thead th {\n        text-align: right;\n    }\n</style>\n<table border=\"1\" class=\"dataframe\">\n  <thead>\n    <tr style=\"text-align: right;\">\n      <th></th>\n      <th>age</th>\n    </tr>\n  </thead>\n  <tbody>\n    <tr>\n      <th>0</th>\n      <td>28</td>\n    </tr>\n    <tr>\n      <th>1</th>\n      <td>34</td>\n    </tr>\n    <tr>\n      <th>2</th>\n      <td>29</td>\n    </tr>\n    <tr>\n      <th>3</th>\n      <td>42</td>\n    </tr>\n  </tbody>\n</table>\n</div>"
     },
     "execution_count": 119,
     "metadata": {},
     "output_type": "execute_result"
    }
   ],
   "source": [
    "df.iloc[:, [1]]"
   ],
   "metadata": {
    "collapsed": false,
    "ExecuteTime": {
     "end_time": "2024-01-19T14:12:09.907763300Z",
     "start_time": "2024-01-19T14:12:09.890833900Z"
    }
   },
   "id": "17768d7148453a09"
  },
  {
   "cell_type": "code",
   "execution_count": 159,
   "outputs": [
    {
     "data": {
      "text/plain": "array(['Viktoriia', 'Olena', 'Volodymyr', 'Oleksii'], dtype=object)"
     },
     "execution_count": 159,
     "metadata": {},
     "output_type": "execute_result"
    }
   ],
   "source": [
    "df.values[:,1]"
   ],
   "metadata": {
    "collapsed": false,
    "ExecuteTime": {
     "end_time": "2024-01-19T14:37:52.061724900Z",
     "start_time": "2024-01-19T14:37:52.026006400Z"
    }
   },
   "id": "181cbc847146fae3"
  },
  {
   "cell_type": "code",
   "execution_count": 117,
   "outputs": [
    {
     "data": {
      "text/plain": "0    28\n1    34\n2    29\n3    42\nName: age, dtype: int64"
     },
     "execution_count": 117,
     "metadata": {},
     "output_type": "execute_result"
    }
   ],
   "source": [
    "df.loc[:,df.columns[1]]"
   ],
   "metadata": {
    "collapsed": false,
    "ExecuteTime": {
     "end_time": "2024-01-19T14:11:57.740702400Z",
     "start_time": "2024-01-19T14:11:57.711161600Z"
    }
   },
   "id": "93bf37dc13bd967b"
  },
  {
   "cell_type": "code",
   "execution_count": 112,
   "outputs": [
    {
     "data": {
      "text/plain": "0    28\n1    34\n2    29\n3    42\nName: age, dtype: int64"
     },
     "execution_count": 112,
     "metadata": {},
     "output_type": "execute_result"
    }
   ],
   "source": [
    "df.iloc[:, 1]"
   ],
   "metadata": {
    "collapsed": false,
    "ExecuteTime": {
     "end_time": "2024-01-19T14:10:12.052432200Z",
     "start_time": "2024-01-19T14:10:12.038654100Z"
    }
   },
   "id": "c33ebb13f1e73581"
  },
  {
   "cell_type": "markdown",
   "source": [
    "---------------------------#Достать определенную клетку-------------------------------------"
   ],
   "metadata": {
    "collapsed": false
   },
   "id": "1cd07317f2787746"
  },
  {
   "cell_type": "code",
   "execution_count": 152,
   "outputs": [
    {
     "data": {
      "text/plain": "'Walloons 16'"
     },
     "execution_count": 152,
     "metadata": {},
     "output_type": "execute_result"
    }
   ],
   "source": [
    "df.at[0, df.columns[0]]"
   ],
   "metadata": {
    "collapsed": false,
    "ExecuteTime": {
     "end_time": "2024-01-19T14:36:15.736633900Z",
     "start_time": "2024-01-19T14:36:15.711150200Z"
    }
   },
   "id": "7e5b20bf76dec106"
  },
  {
   "cell_type": "code",
   "execution_count": 163,
   "outputs": [
    {
     "data": {
      "text/plain": "32"
     },
     "execution_count": 163,
     "metadata": {},
     "output_type": "execute_result"
    }
   ],
   "source": [
    "df.at[2,\"age\"]"
   ],
   "metadata": {
    "collapsed": false,
    "ExecuteTime": {
     "end_time": "2024-01-19T14:38:54.140555300Z",
     "start_time": "2024-01-19T14:38:54.121778600Z"
    }
   },
   "id": "a2b6e424f1d4da0e"
  },
  {
   "cell_type": "code",
   "execution_count": 157,
   "outputs": [
    {
     "data": {
      "text/plain": "'Olena'"
     },
     "execution_count": 157,
     "metadata": {},
     "output_type": "execute_result"
    }
   ],
   "source": [
    "df.values[1,1]"
   ],
   "metadata": {
    "collapsed": false,
    "ExecuteTime": {
     "end_time": "2024-01-19T14:37:24.234557900Z",
     "start_time": "2024-01-19T14:37:24.203830200Z"
    }
   },
   "id": "e486ca1f38abdfc8"
  },
  {
   "cell_type": "code",
   "execution_count": 156,
   "outputs": [
    {
     "data": {
      "text/plain": "27"
     },
     "execution_count": 156,
     "metadata": {},
     "output_type": "execute_result"
    }
   ],
   "source": [
    "df['age'][1]"
   ],
   "metadata": {
    "collapsed": false,
    "ExecuteTime": {
     "end_time": "2024-01-19T14:37:18.501688400Z",
     "start_time": "2024-01-19T14:37:18.481960Z"
    }
   },
   "id": "d7c6393657ade02e"
  },
  {
   "cell_type": "code",
   "execution_count": 143,
   "outputs": [
    {
     "data": {
      "text/plain": "'Olena'"
     },
     "execution_count": 143,
     "metadata": {},
     "output_type": "execute_result"
    }
   ],
   "source": [
    "df[df.columns[1]][1]"
   ],
   "metadata": {
    "collapsed": false,
    "ExecuteTime": {
     "end_time": "2024-01-19T14:33:11.590620300Z",
     "start_time": "2024-01-19T14:33:11.573518100Z"
    }
   },
   "id": "46be01b4e8093a4"
  },
  {
   "cell_type": "code",
   "execution_count": 131,
   "outputs": [
    {
     "data": {
      "text/plain": "'Olena'"
     },
     "execution_count": 131,
     "metadata": {},
     "output_type": "execute_result"
    }
   ],
   "source": [
    "df.iloc[1, 1]"
   ],
   "metadata": {
    "collapsed": false,
    "ExecuteTime": {
     "end_time": "2024-01-19T14:29:50.343309200Z",
     "start_time": "2024-01-19T14:29:50.326508100Z"
    }
   },
   "id": "70b11bc2759df95d"
  },
  {
   "cell_type": "code",
   "execution_count": 134,
   "outputs": [
    {
     "data": {
      "text/plain": "27"
     },
     "execution_count": 134,
     "metadata": {},
     "output_type": "execute_result"
    }
   ],
   "source": [
    "df.loc[1,'age']"
   ],
   "metadata": {
    "collapsed": false,
    "ExecuteTime": {
     "end_time": "2024-01-19T14:31:04.730731800Z",
     "start_time": "2024-01-19T14:31:04.717747800Z"
    }
   },
   "id": "298586d3dad331c8"
  },
  {
   "cell_type": "code",
   "execution_count": 135,
   "outputs": [
    {
     "data": {
      "text/plain": "'Olena'"
     },
     "execution_count": 135,
     "metadata": {},
     "output_type": "execute_result"
    }
   ],
   "source": [
    "df.loc[1,df.columns[1]]"
   ],
   "metadata": {
    "collapsed": false,
    "ExecuteTime": {
     "end_time": "2024-01-19T14:31:27.934552400Z",
     "start_time": "2024-01-19T14:31:27.920857200Z"
    }
   },
   "id": "7f881b8b24166283"
  },
  {
   "cell_type": "code",
   "execution_count": 136,
   "outputs": [
    {
     "data": {
      "text/plain": "name    Olena\nName: 1, dtype: object"
     },
     "execution_count": 136,
     "metadata": {},
     "output_type": "execute_result"
    }
   ],
   "source": [
    "df.iloc[1, [1]]"
   ],
   "metadata": {
    "collapsed": false,
    "ExecuteTime": {
     "end_time": "2024-01-19T14:31:39.778785600Z",
     "start_time": "2024-01-19T14:31:39.765400600Z"
    }
   },
   "id": "6e2370eaabd73f91"
  },
  {
   "cell_type": "code",
   "execution_count": null,
   "outputs": [],
   "source": [],
   "metadata": {
    "collapsed": false
   },
   "id": "ee2d96c96b2b5f8a"
  },
  {
   "cell_type": "markdown",
   "source": [
    "-----------------------------------достать строчку-------------------------------------"
   ],
   "metadata": {
    "collapsed": false
   },
   "id": "4d5031e0e9816a82"
  },
  {
   "cell_type": "code",
   "execution_count": 158,
   "outputs": [
    {
     "data": {
      "text/plain": "array(['Traugutta 76', 'Olena', 27], dtype=object)"
     },
     "execution_count": 158,
     "metadata": {},
     "output_type": "execute_result"
    }
   ],
   "source": [
    "df.values[1,:]"
   ],
   "metadata": {
    "collapsed": false,
    "ExecuteTime": {
     "end_time": "2024-01-19T14:37:33.815108900Z",
     "start_time": "2024-01-19T14:37:33.728793800Z"
    }
   },
   "id": "2c4708dd763a36c4"
  },
  {
   "cell_type": "code",
   "execution_count": 31,
   "outputs": [
    {
     "data": {
      "text/plain": "address    Walloons 16\nname         Viktoriia\nage                 28\nName: 0, dtype: object"
     },
     "execution_count": 31,
     "metadata": {},
     "output_type": "execute_result"
    }
   ],
   "source": [
    "df.loc[0]"
   ],
   "metadata": {
    "collapsed": false,
    "ExecuteTime": {
     "start_time": "2024-01-19T13:52:12.621786400Z"
    }
   },
   "id": "f077f25b9c80c727"
  },
  {
   "cell_type": "code",
   "execution_count": 30,
   "outputs": [
    {
     "data": {
      "text/plain": "       address       name  age\n0  Walloons 16  Viktoriia   28",
      "text/html": "<div>\n<style scoped>\n    .dataframe tbody tr th:only-of-type {\n        vertical-align: middle;\n    }\n\n    .dataframe tbody tr th {\n        vertical-align: top;\n    }\n\n    .dataframe thead th {\n        text-align: right;\n    }\n</style>\n<table border=\"1\" class=\"dataframe\">\n  <thead>\n    <tr style=\"text-align: right;\">\n      <th></th>\n      <th>address</th>\n      <th>name</th>\n      <th>age</th>\n    </tr>\n  </thead>\n  <tbody>\n    <tr>\n      <th>0</th>\n      <td>Walloons 16</td>\n      <td>Viktoriia</td>\n      <td>28</td>\n    </tr>\n  </tbody>\n</table>\n</div>"
     },
     "execution_count": 30,
     "metadata": {},
     "output_type": "execute_result"
    }
   ],
   "source": [
    "df.loc[[0]]"
   ],
   "metadata": {
    "collapsed": false,
    "ExecuteTime": {
     "start_time": "2024-01-19T13:52:00.530329400Z"
    }
   },
   "id": "5f778fa245b6111f"
  },
  {
   "cell_type": "code",
   "execution_count": 28,
   "outputs": [
    {
     "data": {
      "text/plain": "       address       name  age\n0  Walloons 16  Viktoriia   28",
      "text/html": "<div>\n<style scoped>\n    .dataframe tbody tr th:only-of-type {\n        vertical-align: middle;\n    }\n\n    .dataframe tbody tr th {\n        vertical-align: top;\n    }\n\n    .dataframe thead th {\n        text-align: right;\n    }\n</style>\n<table border=\"1\" class=\"dataframe\">\n  <thead>\n    <tr style=\"text-align: right;\">\n      <th></th>\n      <th>address</th>\n      <th>name</th>\n      <th>age</th>\n    </tr>\n  </thead>\n  <tbody>\n    <tr>\n      <th>0</th>\n      <td>Walloons 16</td>\n      <td>Viktoriia</td>\n      <td>28</td>\n    </tr>\n  </tbody>\n</table>\n</div>"
     },
     "execution_count": 28,
     "metadata": {},
     "output_type": "execute_result"
    }
   ],
   "source": [
    "df.iloc[[0]]"
   ],
   "metadata": {
    "collapsed": false,
    "ExecuteTime": {
     "start_time": "2024-01-19T13:51:32.978980100Z"
    }
   },
   "id": "2e366c09dab0b7cc"
  },
  {
   "cell_type": "code",
   "execution_count": 126,
   "outputs": [
    {
     "data": {
      "text/plain": "address    Shekspira 7\nname         Volodymyr\nage                 32\nName: 2, dtype: object"
     },
     "execution_count": 126,
     "metadata": {},
     "output_type": "execute_result"
    }
   ],
   "source": [
    "df.iloc[2]"
   ],
   "metadata": {
    "collapsed": false,
    "ExecuteTime": {
     "start_time": "2024-01-19T14:26:19.518171200Z"
    }
   },
   "id": "7f9268a204feb976"
  },
  {
   "cell_type": "code",
   "execution_count": 128,
   "outputs": [
    {
     "data": {
      "text/plain": "       address       name  age\n0  Walloons 16  Viktoriia   28",
      "text/html": "<div>\n<style scoped>\n    .dataframe tbody tr th:only-of-type {\n        vertical-align: middle;\n    }\n\n    .dataframe tbody tr th {\n        vertical-align: top;\n    }\n\n    .dataframe thead th {\n        text-align: right;\n    }\n</style>\n<table border=\"1\" class=\"dataframe\">\n  <thead>\n    <tr style=\"text-align: right;\">\n      <th></th>\n      <th>address</th>\n      <th>name</th>\n      <th>age</th>\n    </tr>\n  </thead>\n  <tbody>\n    <tr>\n      <th>0</th>\n      <td>Walloons 16</td>\n      <td>Viktoriia</td>\n      <td>28</td>\n    </tr>\n  </tbody>\n</table>\n</div>"
     },
     "execution_count": 128,
     "metadata": {},
     "output_type": "execute_result"
    }
   ],
   "source": [
    "df[:1]"
   ],
   "metadata": {
    "collapsed": false,
    "ExecuteTime": {
     "start_time": "2024-01-19T14:27:08.218147300Z"
    }
   },
   "id": "d96fbf322bd8ff91"
  },
  {
   "cell_type": "markdown",
   "source": [
    "-------------------------------------------слайс-------------------------------------------------\n",
    "ERRORS:#df.loc[1,1]"
   ],
   "metadata": {
    "collapsed": false
   },
   "id": "a748d95c367c9873"
  },
  {
   "cell_type": "code",
   "execution_count": 171,
   "outputs": [
    {
     "data": {
      "text/plain": "        address       name  age\n0   Walloons 16  Viktoriia   28\n1  Traugutta 76      Olena   27",
      "text/html": "<div>\n<style scoped>\n    .dataframe tbody tr th:only-of-type {\n        vertical-align: middle;\n    }\n\n    .dataframe tbody tr th {\n        vertical-align: top;\n    }\n\n    .dataframe thead th {\n        text-align: right;\n    }\n</style>\n<table border=\"1\" class=\"dataframe\">\n  <thead>\n    <tr style=\"text-align: right;\">\n      <th></th>\n      <th>address</th>\n      <th>name</th>\n      <th>age</th>\n    </tr>\n  </thead>\n  <tbody>\n    <tr>\n      <th>0</th>\n      <td>Walloons 16</td>\n      <td>Viktoriia</td>\n      <td>28</td>\n    </tr>\n    <tr>\n      <th>1</th>\n      <td>Traugutta 76</td>\n      <td>Olena</td>\n      <td>27</td>\n    </tr>\n  </tbody>\n</table>\n</div>"
     },
     "execution_count": 171,
     "metadata": {},
     "output_type": "execute_result"
    }
   ],
   "source": [
    "df[:2][:2]"
   ],
   "metadata": {
    "collapsed": false,
    "ExecuteTime": {
     "end_time": "2024-01-19T14:44:16.562086600Z",
     "start_time": "2024-01-19T14:44:16.534016100Z"
    }
   },
   "id": "f322f9c05ae2b025"
  },
  {
   "cell_type": "code",
   "execution_count": 132,
   "outputs": [
    {
     "data": {
      "text/plain": "        address   name  age\n1  Traugutta 76  Olena   27\n1  Traugutta 76  Olena   27",
      "text/html": "<div>\n<style scoped>\n    .dataframe tbody tr th:only-of-type {\n        vertical-align: middle;\n    }\n\n    .dataframe tbody tr th {\n        vertical-align: top;\n    }\n\n    .dataframe thead th {\n        text-align: right;\n    }\n</style>\n<table border=\"1\" class=\"dataframe\">\n  <thead>\n    <tr style=\"text-align: right;\">\n      <th></th>\n      <th>address</th>\n      <th>name</th>\n      <th>age</th>\n    </tr>\n  </thead>\n  <tbody>\n    <tr>\n      <th>1</th>\n      <td>Traugutta 76</td>\n      <td>Olena</td>\n      <td>27</td>\n    </tr>\n    <tr>\n      <th>1</th>\n      <td>Traugutta 76</td>\n      <td>Olena</td>\n      <td>27</td>\n    </tr>\n  </tbody>\n</table>\n</div>"
     },
     "execution_count": 132,
     "metadata": {},
     "output_type": "execute_result"
    }
   ],
   "source": [
    "df.iloc[[1, 1]]"
   ],
   "metadata": {
    "collapsed": false,
    "ExecuteTime": {
     "start_time": "2024-01-19T14:29:58.428183600Z"
    }
   },
   "id": "16bbd22a1758c28f"
  },
  {
   "cell_type": "code",
   "execution_count": 164,
   "outputs": [
    {
     "data": {
      "text/plain": "        address   name  age\n1  Traugutta 76  Olena   27\n1  Traugutta 76  Olena   27",
      "text/html": "<div>\n<style scoped>\n    .dataframe tbody tr th:only-of-type {\n        vertical-align: middle;\n    }\n\n    .dataframe tbody tr th {\n        vertical-align: top;\n    }\n\n    .dataframe thead th {\n        text-align: right;\n    }\n</style>\n<table border=\"1\" class=\"dataframe\">\n  <thead>\n    <tr style=\"text-align: right;\">\n      <th></th>\n      <th>address</th>\n      <th>name</th>\n      <th>age</th>\n    </tr>\n  </thead>\n  <tbody>\n    <tr>\n      <th>1</th>\n      <td>Traugutta 76</td>\n      <td>Olena</td>\n      <td>27</td>\n    </tr>\n    <tr>\n      <th>1</th>\n      <td>Traugutta 76</td>\n      <td>Olena</td>\n      <td>27</td>\n    </tr>\n  </tbody>\n</table>\n</div>"
     },
     "execution_count": 164,
     "metadata": {},
     "output_type": "execute_result"
    }
   ],
   "source": [
    "df.loc[[1, 1]]"
   ],
   "metadata": {
    "collapsed": false,
    "ExecuteTime": {
     "end_time": "2024-01-19T14:42:22.237691100Z",
     "start_time": "2024-01-19T14:42:22.222227800Z"
    }
   },
   "id": "c14e6c0581fa83f9"
  },
  {
   "cell_type": "code",
   "execution_count": 160,
   "outputs": [
    {
     "data": {
      "text/plain": "array([['Walloons 16', 'Viktoriia', 28],\n       ['Traugutta 76', 'Olena', 27]], dtype=object)"
     },
     "execution_count": 160,
     "metadata": {},
     "output_type": "execute_result"
    }
   ],
   "source": [
    "df.values[:2,:3]"
   ],
   "metadata": {
    "collapsed": false,
    "ExecuteTime": {
     "start_time": "2024-01-19T14:38:11.443997300Z"
    }
   },
   "id": "1eee7a04c013bed1"
  },
  {
   "cell_type": "code",
   "execution_count": 173,
   "outputs": [
    {
     "data": {
      "text/plain": "           address       name\n1     Traugutta 76      Olena\n2      Shekspira 7  Volodymyr\n3  Saksaganskogo 8    Oleksii",
      "text/html": "<div>\n<style scoped>\n    .dataframe tbody tr th:only-of-type {\n        vertical-align: middle;\n    }\n\n    .dataframe tbody tr th {\n        vertical-align: top;\n    }\n\n    .dataframe thead th {\n        text-align: right;\n    }\n</style>\n<table border=\"1\" class=\"dataframe\">\n  <thead>\n    <tr style=\"text-align: right;\">\n      <th></th>\n      <th>address</th>\n      <th>name</th>\n    </tr>\n  </thead>\n  <tbody>\n    <tr>\n      <th>1</th>\n      <td>Traugutta 76</td>\n      <td>Olena</td>\n    </tr>\n    <tr>\n      <th>2</th>\n      <td>Shekspira 7</td>\n      <td>Volodymyr</td>\n    </tr>\n    <tr>\n      <th>3</th>\n      <td>Saksaganskogo 8</td>\n      <td>Oleksii</td>\n    </tr>\n  </tbody>\n</table>\n</div>"
     },
     "execution_count": 173,
     "metadata": {},
     "output_type": "execute_result"
    }
   ],
   "source": [
    "df.iloc[1:4, 0:2]"
   ],
   "metadata": {
    "collapsed": false,
    "ExecuteTime": {
     "end_time": "2024-01-19T14:48:14.652723500Z",
     "start_time": "2024-01-19T14:48:14.634947300Z"
    }
   },
   "id": "8d4a6153bc43a33a"
  },
  {
   "cell_type": "markdown",
   "source": [
    "---------------------------------------несколько колонок-------------------------------------------"
   ],
   "metadata": {
    "collapsed": false
   },
   "id": "e9980ff2e2d753dc"
  },
  {
   "cell_type": "code",
   "execution_count": 179,
   "outputs": [
    {
     "data": {
      "text/plain": "   age       name\n1   27      Olena\n2   32  Volodymyr\n3    3    Oleksii",
      "text/html": "<div>\n<style scoped>\n    .dataframe tbody tr th:only-of-type {\n        vertical-align: middle;\n    }\n\n    .dataframe tbody tr th {\n        vertical-align: top;\n    }\n\n    .dataframe thead th {\n        text-align: right;\n    }\n</style>\n<table border=\"1\" class=\"dataframe\">\n  <thead>\n    <tr style=\"text-align: right;\">\n      <th></th>\n      <th>age</th>\n      <th>name</th>\n    </tr>\n  </thead>\n  <tbody>\n    <tr>\n      <th>1</th>\n      <td>27</td>\n      <td>Olena</td>\n    </tr>\n    <tr>\n      <th>2</th>\n      <td>32</td>\n      <td>Volodymyr</td>\n    </tr>\n    <tr>\n      <th>3</th>\n      <td>3</td>\n      <td>Oleksii</td>\n    </tr>\n  </tbody>\n</table>\n</div>"
     },
     "execution_count": 179,
     "metadata": {},
     "output_type": "execute_result"
    }
   ],
   "source": [
    "df[1:4][['age', 'name']]"
   ],
   "metadata": {
    "collapsed": false,
    "ExecuteTime": {
     "end_time": "2024-01-19T14:50:48.983599800Z",
     "start_time": "2024-01-19T14:50:48.949428700Z"
    }
   },
   "id": "f1738f2c56640852"
  },
  {
   "cell_type": "code",
   "execution_count": 177,
   "outputs": [
    {
     "data": {
      "text/plain": "   age       name\n1   27      Olena\n2   32  Volodymyr\n3    3    Oleksii",
      "text/html": "<div>\n<style scoped>\n    .dataframe tbody tr th:only-of-type {\n        vertical-align: middle;\n    }\n\n    .dataframe tbody tr th {\n        vertical-align: top;\n    }\n\n    .dataframe thead th {\n        text-align: right;\n    }\n</style>\n<table border=\"1\" class=\"dataframe\">\n  <thead>\n    <tr style=\"text-align: right;\">\n      <th></th>\n      <th>age</th>\n      <th>name</th>\n    </tr>\n  </thead>\n  <tbody>\n    <tr>\n      <th>1</th>\n      <td>27</td>\n      <td>Olena</td>\n    </tr>\n    <tr>\n      <th>2</th>\n      <td>32</td>\n      <td>Volodymyr</td>\n    </tr>\n    <tr>\n      <th>3</th>\n      <td>3</td>\n      <td>Oleksii</td>\n    </tr>\n  </tbody>\n</table>\n</div>"
     },
     "execution_count": 177,
     "metadata": {},
     "output_type": "execute_result"
    }
   ],
   "source": [
    "df.iloc[1:4][['age', 'name']]"
   ],
   "metadata": {
    "collapsed": false,
    "ExecuteTime": {
     "start_time": "2024-01-19T14:50:31.994693300Z"
    }
   },
   "id": "20d8116fd31dd6be"
  },
  {
   "cell_type": "code",
   "execution_count": 178,
   "outputs": [
    {
     "data": {
      "text/plain": "   age       name\n1   27      Olena\n2   32  Volodymyr\n3    3    Oleksii",
      "text/html": "<div>\n<style scoped>\n    .dataframe tbody tr th:only-of-type {\n        vertical-align: middle;\n    }\n\n    .dataframe tbody tr th {\n        vertical-align: top;\n    }\n\n    .dataframe thead th {\n        text-align: right;\n    }\n</style>\n<table border=\"1\" class=\"dataframe\">\n  <thead>\n    <tr style=\"text-align: right;\">\n      <th></th>\n      <th>age</th>\n      <th>name</th>\n    </tr>\n  </thead>\n  <tbody>\n    <tr>\n      <th>1</th>\n      <td>27</td>\n      <td>Olena</td>\n    </tr>\n    <tr>\n      <th>2</th>\n      <td>32</td>\n      <td>Volodymyr</td>\n    </tr>\n    <tr>\n      <th>3</th>\n      <td>3</td>\n      <td>Oleksii</td>\n    </tr>\n  </tbody>\n</table>\n</div>"
     },
     "execution_count": 178,
     "metadata": {},
     "output_type": "execute_result"
    }
   ],
   "source": [
    "df.loc[1:4][['age', 'name']]"
   ],
   "metadata": {
    "collapsed": false,
    "ExecuteTime": {
     "end_time": "2024-01-19T14:50:37.605752600Z",
     "start_time": "2024-01-19T14:50:37.569642500Z"
    }
   },
   "id": "f8e00bc2e0a4f963"
  },
  {
   "cell_type": "code",
   "execution_count": 181,
   "outputs": [
    {
     "data": {
      "text/plain": "        name          address\n1      Olena     Traugutta 76\n2  Volodymyr      Shekspira 7\n3    Oleksii  Saksaganskogo 8",
      "text/html": "<div>\n<style scoped>\n    .dataframe tbody tr th:only-of-type {\n        vertical-align: middle;\n    }\n\n    .dataframe tbody tr th {\n        vertical-align: top;\n    }\n\n    .dataframe thead th {\n        text-align: right;\n    }\n</style>\n<table border=\"1\" class=\"dataframe\">\n  <thead>\n    <tr style=\"text-align: right;\">\n      <th></th>\n      <th>name</th>\n      <th>address</th>\n    </tr>\n  </thead>\n  <tbody>\n    <tr>\n      <th>1</th>\n      <td>Olena</td>\n      <td>Traugutta 76</td>\n    </tr>\n    <tr>\n      <th>2</th>\n      <td>Volodymyr</td>\n      <td>Shekspira 7</td>\n    </tr>\n    <tr>\n      <th>3</th>\n      <td>Oleksii</td>\n      <td>Saksaganskogo 8</td>\n    </tr>\n  </tbody>\n</table>\n</div>"
     },
     "execution_count": 181,
     "metadata": {},
     "output_type": "execute_result"
    }
   ],
   "source": [
    "df.iloc[1:4, [1, 0]]"
   ],
   "metadata": {
    "collapsed": false,
    "ExecuteTime": {
     "end_time": "2024-01-19T14:52:51.512391100Z",
     "start_time": "2024-01-19T14:52:51.459827700Z"
    }
   },
   "id": "e7b543ae6d2fa8b3"
  },
  {
   "cell_type": "code",
   "execution_count": 186,
   "outputs": [
    {
     "data": {
      "text/plain": "           address       name  age\n1     Traugutta 76      Olena   27\n2      Shekspira 7  Volodymyr   32\n3  Saksaganskogo 8    Oleksii    3",
      "text/html": "<div>\n<style scoped>\n    .dataframe tbody tr th:only-of-type {\n        vertical-align: middle;\n    }\n\n    .dataframe tbody tr th {\n        vertical-align: top;\n    }\n\n    .dataframe thead th {\n        text-align: right;\n    }\n</style>\n<table border=\"1\" class=\"dataframe\">\n  <thead>\n    <tr style=\"text-align: right;\">\n      <th></th>\n      <th>address</th>\n      <th>name</th>\n      <th>age</th>\n    </tr>\n  </thead>\n  <tbody>\n    <tr>\n      <th>1</th>\n      <td>Traugutta 76</td>\n      <td>Olena</td>\n      <td>27</td>\n    </tr>\n    <tr>\n      <th>2</th>\n      <td>Shekspira 7</td>\n      <td>Volodymyr</td>\n      <td>32</td>\n    </tr>\n    <tr>\n      <th>3</th>\n      <td>Saksaganskogo 8</td>\n      <td>Oleksii</td>\n      <td>3</td>\n    </tr>\n  </tbody>\n</table>\n</div>"
     },
     "execution_count": 186,
     "metadata": {},
     "output_type": "execute_result"
    }
   ],
   "source": [
    "df[df.columns[0:5]][1:4]"
   ],
   "metadata": {
    "collapsed": false,
    "ExecuteTime": {
     "end_time": "2024-01-19T14:54:02.895276Z",
     "start_time": "2024-01-19T14:54:02.867795100Z"
    }
   },
   "id": "957d2348480cebd6"
  },
  {
   "cell_type": "code",
   "execution_count": 188,
   "outputs": [
    {
     "data": {
      "text/plain": "           address       name  age\n0      Walloons 16  Viktoriia   28\n1     Traugutta 76      Olena   27\n2      Shekspira 7  Volodymyr   32\n3  Saksaganskogo 8    Oleksii    3",
      "text/html": "<div>\n<style scoped>\n    .dataframe tbody tr th:only-of-type {\n        vertical-align: middle;\n    }\n\n    .dataframe tbody tr th {\n        vertical-align: top;\n    }\n\n    .dataframe thead th {\n        text-align: right;\n    }\n</style>\n<table border=\"1\" class=\"dataframe\">\n  <thead>\n    <tr style=\"text-align: right;\">\n      <th></th>\n      <th>address</th>\n      <th>name</th>\n      <th>age</th>\n    </tr>\n  </thead>\n  <tbody>\n    <tr>\n      <th>0</th>\n      <td>Walloons 16</td>\n      <td>Viktoriia</td>\n      <td>28</td>\n    </tr>\n    <tr>\n      <th>1</th>\n      <td>Traugutta 76</td>\n      <td>Olena</td>\n      <td>27</td>\n    </tr>\n    <tr>\n      <th>2</th>\n      <td>Shekspira 7</td>\n      <td>Volodymyr</td>\n      <td>32</td>\n    </tr>\n    <tr>\n      <th>3</th>\n      <td>Saksaganskogo 8</td>\n      <td>Oleksii</td>\n      <td>3</td>\n    </tr>\n  </tbody>\n</table>\n</div>"
     },
     "execution_count": 188,
     "metadata": {},
     "output_type": "execute_result"
    }
   ],
   "source": [
    "df[df.columns[0:5]]"
   ],
   "metadata": {
    "collapsed": false,
    "ExecuteTime": {
     "end_time": "2024-01-19T14:54:51.250002800Z",
     "start_time": "2024-01-19T14:54:51.229542400Z"
    }
   },
   "id": "8f563ab4f6e90dbb"
  },
  {
   "cell_type": "markdown",
   "source": [
    "----------------------------как достать значения ----------------------------------"
   ],
   "metadata": {
    "collapsed": false
   },
   "id": "cd74fb55d4506429"
  },
  {
   "cell_type": "code",
   "execution_count": 189,
   "outputs": [
    {
     "data": {
      "text/plain": "        address       name  age\n0   Walloons 16  Viktoriia   28\n1  Traugutta 76      Olena   27\n2   Shekspira 7  Volodymyr   32",
      "text/html": "<div>\n<style scoped>\n    .dataframe tbody tr th:only-of-type {\n        vertical-align: middle;\n    }\n\n    .dataframe tbody tr th {\n        vertical-align: top;\n    }\n\n    .dataframe thead th {\n        text-align: right;\n    }\n</style>\n<table border=\"1\" class=\"dataframe\">\n  <thead>\n    <tr style=\"text-align: right;\">\n      <th></th>\n      <th>address</th>\n      <th>name</th>\n      <th>age</th>\n    </tr>\n  </thead>\n  <tbody>\n    <tr>\n      <th>0</th>\n      <td>Walloons 16</td>\n      <td>Viktoriia</td>\n      <td>28</td>\n    </tr>\n    <tr>\n      <th>1</th>\n      <td>Traugutta 76</td>\n      <td>Olena</td>\n      <td>27</td>\n    </tr>\n    <tr>\n      <th>2</th>\n      <td>Shekspira 7</td>\n      <td>Volodymyr</td>\n      <td>32</td>\n    </tr>\n  </tbody>\n</table>\n</div>"
     },
     "execution_count": 189,
     "metadata": {},
     "output_type": "execute_result"
    }
   ],
   "source": [
    "df[df['age'] > 25]"
   ],
   "metadata": {
    "collapsed": false,
    "ExecuteTime": {
     "end_time": "2024-01-19T15:03:50.134024900Z",
     "start_time": "2024-01-19T15:03:50.094610100Z"
    }
   },
   "id": "a175993b7d174873"
  },
  {
   "cell_type": "code",
   "execution_count": 190,
   "outputs": [
    {
     "data": {
      "text/plain": "       address       name  age\n0  Walloons 16  Viktoriia   28",
      "text/html": "<div>\n<style scoped>\n    .dataframe tbody tr th:only-of-type {\n        vertical-align: middle;\n    }\n\n    .dataframe tbody tr th {\n        vertical-align: top;\n    }\n\n    .dataframe thead th {\n        text-align: right;\n    }\n</style>\n<table border=\"1\" class=\"dataframe\">\n  <thead>\n    <tr style=\"text-align: right;\">\n      <th></th>\n      <th>address</th>\n      <th>name</th>\n      <th>age</th>\n    </tr>\n  </thead>\n  <tbody>\n    <tr>\n      <th>0</th>\n      <td>Walloons 16</td>\n      <td>Viktoriia</td>\n      <td>28</td>\n    </tr>\n  </tbody>\n</table>\n</div>"
     },
     "execution_count": 190,
     "metadata": {},
     "output_type": "execute_result"
    }
   ],
   "source": [
    "df[(df['age'] > 25) & (df['name'] == 'Viktoriia')]"
   ],
   "metadata": {
    "collapsed": false,
    "ExecuteTime": {
     "end_time": "2024-01-19T15:04:20.663752Z",
     "start_time": "2024-01-19T15:04:20.608004400Z"
    }
   },
   "id": "36c1ecb62bfa7a41"
  },
  {
   "cell_type": "code",
   "execution_count": 191,
   "outputs": [
    {
     "data": {
      "text/plain": "        address       name  age\n0   Walloons 16  Viktoriia   28\n1  Traugutta 76      Olena   27\n2   Shekspira 7  Volodymyr   32",
      "text/html": "<div>\n<style scoped>\n    .dataframe tbody tr th:only-of-type {\n        vertical-align: middle;\n    }\n\n    .dataframe tbody tr th {\n        vertical-align: top;\n    }\n\n    .dataframe thead th {\n        text-align: right;\n    }\n</style>\n<table border=\"1\" class=\"dataframe\">\n  <thead>\n    <tr style=\"text-align: right;\">\n      <th></th>\n      <th>address</th>\n      <th>name</th>\n      <th>age</th>\n    </tr>\n  </thead>\n  <tbody>\n    <tr>\n      <th>0</th>\n      <td>Walloons 16</td>\n      <td>Viktoriia</td>\n      <td>28</td>\n    </tr>\n    <tr>\n      <th>1</th>\n      <td>Traugutta 76</td>\n      <td>Olena</td>\n      <td>27</td>\n    </tr>\n    <tr>\n      <th>2</th>\n      <td>Shekspira 7</td>\n      <td>Volodymyr</td>\n      <td>32</td>\n    </tr>\n  </tbody>\n</table>\n</div>"
     },
     "execution_count": 191,
     "metadata": {},
     "output_type": "execute_result"
    }
   ],
   "source": [
    "df.query('age > 25')"
   ],
   "metadata": {
    "collapsed": false,
    "ExecuteTime": {
     "end_time": "2024-01-19T15:04:30.506872400Z",
     "start_time": "2024-01-19T15:04:30.442157100Z"
    }
   },
   "id": "f1f1e9f52421eab7"
  },
  {
   "cell_type": "code",
   "execution_count": 193,
   "outputs": [
    {
     "data": {
      "text/plain": "       address       name  age\n0  Walloons 16  Viktoriia   28\n2  Shekspira 7  Volodymyr   32",
      "text/html": "<div>\n<style scoped>\n    .dataframe tbody tr th:only-of-type {\n        vertical-align: middle;\n    }\n\n    .dataframe tbody tr th {\n        vertical-align: top;\n    }\n\n    .dataframe thead th {\n        text-align: right;\n    }\n</style>\n<table border=\"1\" class=\"dataframe\">\n  <thead>\n    <tr style=\"text-align: right;\">\n      <th></th>\n      <th>address</th>\n      <th>name</th>\n      <th>age</th>\n    </tr>\n  </thead>\n  <tbody>\n    <tr>\n      <th>0</th>\n      <td>Walloons 16</td>\n      <td>Viktoriia</td>\n      <td>28</td>\n    </tr>\n    <tr>\n      <th>2</th>\n      <td>Shekspira 7</td>\n      <td>Volodymyr</td>\n      <td>32</td>\n    </tr>\n  </tbody>\n</table>\n</div>"
     },
     "execution_count": 193,
     "metadata": {},
     "output_type": "execute_result"
    }
   ],
   "source": [
    "df.loc[lambda x: x['age'] > 27]"
   ],
   "metadata": {
    "collapsed": false,
    "ExecuteTime": {
     "end_time": "2024-01-19T15:05:42.156442200Z",
     "start_time": "2024-01-19T15:05:42.131008800Z"
    }
   },
   "id": "f2872aa6d3afc131"
  },
  {
   "cell_type": "code",
   "execution_count": 195,
   "outputs": [
    {
     "data": {
      "text/plain": "           address       name  age\n0      Walloons 16  Viktoriia   28\n2      Shekspira 7  Volodymyr   32\n3  Saksaganskogo 8    Oleksii    3",
      "text/html": "<div>\n<style scoped>\n    .dataframe tbody tr th:only-of-type {\n        vertical-align: middle;\n    }\n\n    .dataframe tbody tr th {\n        vertical-align: top;\n    }\n\n    .dataframe thead th {\n        text-align: right;\n    }\n</style>\n<table border=\"1\" class=\"dataframe\">\n  <thead>\n    <tr style=\"text-align: right;\">\n      <th></th>\n      <th>address</th>\n      <th>name</th>\n      <th>age</th>\n    </tr>\n  </thead>\n  <tbody>\n    <tr>\n      <th>0</th>\n      <td>Walloons 16</td>\n      <td>Viktoriia</td>\n      <td>28</td>\n    </tr>\n    <tr>\n      <th>2</th>\n      <td>Shekspira 7</td>\n      <td>Volodymyr</td>\n      <td>32</td>\n    </tr>\n    <tr>\n      <th>3</th>\n      <td>Saksaganskogo 8</td>\n      <td>Oleksii</td>\n      <td>3</td>\n    </tr>\n  </tbody>\n</table>\n</div>"
     },
     "execution_count": 195,
     "metadata": {},
     "output_type": "execute_result"
    }
   ],
   "source": [
    "df[df['name'].str.len() > 6]"
   ],
   "metadata": {
    "collapsed": false,
    "ExecuteTime": {
     "end_time": "2024-01-19T15:39:41.392991700Z",
     "start_time": "2024-01-19T15:39:41.373353200Z"
    }
   },
   "id": "1bddd3959d07c41b"
  },
  {
   "cell_type": "markdown",
   "source": [
    "---------------------------------------заполнить колонки---------------------------------------------"
   ],
   "metadata": {
    "collapsed": false
   },
   "id": "37cd3484d1470bc6"
  },
  {
   "cell_type": "code",
   "execution_count": 199,
   "outputs": [
    {
     "data": {
      "text/plain": "           address  name  age\n0      Walloons 16     0   28\n1     Traugutta 76     0   27\n2      Shekspira 7     0   32\n3  Saksaganskogo 8     0    3",
      "text/html": "<div>\n<style scoped>\n    .dataframe tbody tr th:only-of-type {\n        vertical-align: middle;\n    }\n\n    .dataframe tbody tr th {\n        vertical-align: top;\n    }\n\n    .dataframe thead th {\n        text-align: right;\n    }\n</style>\n<table border=\"1\" class=\"dataframe\">\n  <thead>\n    <tr style=\"text-align: right;\">\n      <th></th>\n      <th>address</th>\n      <th>name</th>\n      <th>age</th>\n    </tr>\n  </thead>\n  <tbody>\n    <tr>\n      <th>0</th>\n      <td>Walloons 16</td>\n      <td>0</td>\n      <td>28</td>\n    </tr>\n    <tr>\n      <th>1</th>\n      <td>Traugutta 76</td>\n      <td>0</td>\n      <td>27</td>\n    </tr>\n    <tr>\n      <th>2</th>\n      <td>Shekspira 7</td>\n      <td>0</td>\n      <td>32</td>\n    </tr>\n    <tr>\n      <th>3</th>\n      <td>Saksaganskogo 8</td>\n      <td>0</td>\n      <td>3</td>\n    </tr>\n  </tbody>\n</table>\n</div>"
     },
     "execution_count": 199,
     "metadata": {},
     "output_type": "execute_result"
    }
   ],
   "source": [
    "df['name'] = 0\n",
    "df"
   ],
   "metadata": {
    "collapsed": false,
    "ExecuteTime": {
     "end_time": "2024-01-19T16:16:18.311021300Z",
     "start_time": "2024-01-19T16:16:18.274892700Z"
    }
   },
   "id": "1f1dee6c1e30fb83"
  },
  {
   "cell_type": "markdown",
   "source": [
    "-----------------------добавить колонку-----------------------------------"
   ],
   "metadata": {
    "collapsed": false
   },
   "id": "322ff7bfa7cb5ba3"
  },
  {
   "cell_type": "code",
   "execution_count": 201,
   "outputs": [
    {
     "data": {
      "text/plain": "           address  name  age   C\n0      Walloons 16     0   28  10\n1     Traugutta 76     0   27  20\n2      Shekspira 7     0   32  30\n3  Saksaganskogo 8     0    3  40",
      "text/html": "<div>\n<style scoped>\n    .dataframe tbody tr th:only-of-type {\n        vertical-align: middle;\n    }\n\n    .dataframe tbody tr th {\n        vertical-align: top;\n    }\n\n    .dataframe thead th {\n        text-align: right;\n    }\n</style>\n<table border=\"1\" class=\"dataframe\">\n  <thead>\n    <tr style=\"text-align: right;\">\n      <th></th>\n      <th>address</th>\n      <th>name</th>\n      <th>age</th>\n      <th>C</th>\n    </tr>\n  </thead>\n  <tbody>\n    <tr>\n      <th>0</th>\n      <td>Walloons 16</td>\n      <td>0</td>\n      <td>28</td>\n      <td>10</td>\n    </tr>\n    <tr>\n      <th>1</th>\n      <td>Traugutta 76</td>\n      <td>0</td>\n      <td>27</td>\n      <td>20</td>\n    </tr>\n    <tr>\n      <th>2</th>\n      <td>Shekspira 7</td>\n      <td>0</td>\n      <td>32</td>\n      <td>30</td>\n    </tr>\n    <tr>\n      <th>3</th>\n      <td>Saksaganskogo 8</td>\n      <td>0</td>\n      <td>3</td>\n      <td>40</td>\n    </tr>\n  </tbody>\n</table>\n</div>"
     },
     "execution_count": 201,
     "metadata": {},
     "output_type": "execute_result"
    }
   ],
   "source": [
    "df['C'] = [10, 20, 30, 40]\n",
    "df"
   ],
   "metadata": {
    "collapsed": false,
    "ExecuteTime": {
     "start_time": "2024-01-19T16:17:05.863135Z"
    }
   },
   "id": "286f5c74fcefd63e"
  },
  {
   "cell_type": "code",
   "execution_count": null,
   "outputs": [],
   "source": [
    "# Создаем два DataFrame\n",
    "df1 = pd.DataFrame({'key': ['A', 'B', 'C', 'D'],\n",
    "                    'value': [1, 2, 3, 4]})\n",
    "df2 = pd.DataFrame({'key': ['B', 'D', 'E', 'F'],\n",
    "                    'value': [5, 6, 7, 8]})\n",
    "\n",
    "# Пример merge по ключу\n",
    "merged_df = pd.merge(df1, df2, on='key', how='inner')\n",
    "print(\"Merged DataFrame:\")\n",
    "print(merged_df)"
   ],
   "metadata": {
    "collapsed": false
   },
   "id": "e5c45eb205310055"
  },
  {
   "cell_type": "code",
   "execution_count": null,
   "outputs": [],
   "source": [
    "# Создаем два DataFrame\n",
    "df1 = pd.DataFrame({'key': ['A', 'B', 'C', 'D'],\n",
    "                    'value': [1, 2, 3, 4]})\n",
    "df2 = pd.DataFrame({'key': ['B', 'D', 'E', 'F'],\n",
    "                    'value': [5, 6, 7, 8]})\n",
    "\n",
    "concatenated_df = pd.concat([df1, df2], ignore_index=True)\n",
    "print(\"\\nConcatenated DataFrame:\")\n",
    "print(concatenated_df)"
   ],
   "metadata": {
    "collapsed": false
   },
   "id": "d056bb0a0ea71537"
  },
  {
   "cell_type": "markdown",
   "source": [
    "--------------------------заполнить конкретное значение---------------------------"
   ],
   "metadata": {
    "collapsed": false
   },
   "id": "c8a9520974d54829"
  },
  {
   "cell_type": "code",
   "execution_count": 203,
   "outputs": [
    {
     "data": {
      "text/plain": "           address       name  age   C\n0      Walloons 16  Viktoriia   28  10\n1     Traugutta 76  Viktoriia   27  20\n2      Shekspira 7  Viktoriia   32  30\n3  Saksaganskogo 8  Viktoriia    3  40",
      "text/html": "<div>\n<style scoped>\n    .dataframe tbody tr th:only-of-type {\n        vertical-align: middle;\n    }\n\n    .dataframe tbody tr th {\n        vertical-align: top;\n    }\n\n    .dataframe thead th {\n        text-align: right;\n    }\n</style>\n<table border=\"1\" class=\"dataframe\">\n  <thead>\n    <tr style=\"text-align: right;\">\n      <th></th>\n      <th>address</th>\n      <th>name</th>\n      <th>age</th>\n      <th>C</th>\n    </tr>\n  </thead>\n  <tbody>\n    <tr>\n      <th>0</th>\n      <td>Walloons 16</td>\n      <td>Viktoriia</td>\n      <td>28</td>\n      <td>10</td>\n    </tr>\n    <tr>\n      <th>1</th>\n      <td>Traugutta 76</td>\n      <td>Viktoriia</td>\n      <td>27</td>\n      <td>20</td>\n    </tr>\n    <tr>\n      <th>2</th>\n      <td>Shekspira 7</td>\n      <td>Viktoriia</td>\n      <td>32</td>\n      <td>30</td>\n    </tr>\n    <tr>\n      <th>3</th>\n      <td>Saksaganskogo 8</td>\n      <td>Viktoriia</td>\n      <td>3</td>\n      <td>40</td>\n    </tr>\n  </tbody>\n</table>\n</div>"
     },
     "execution_count": 203,
     "metadata": {},
     "output_type": "execute_result"
    }
   ],
   "source": [
    "df.loc[df['name'] == 0, 'name'] = 'Viktoriia'\n",
    "df"
   ],
   "metadata": {
    "collapsed": false,
    "ExecuteTime": {
     "end_time": "2024-01-19T16:18:23.647925400Z",
     "start_time": "2024-01-19T16:18:23.605027Z"
    }
   },
   "id": "9a6c4a5607754577"
  },
  {
   "cell_type": "code",
   "execution_count": 205,
   "outputs": [
    {
     "data": {
      "text/plain": "           address       name  age   C\n0      Walloons 16  Viktoriia   28  10\n1     Traugutta 76     orange   27  20\n2      Shekspira 7  Viktoriia   32  30\n3  Saksaganskogo 8  Viktoriia    3  40",
      "text/html": "<div>\n<style scoped>\n    .dataframe tbody tr th:only-of-type {\n        vertical-align: middle;\n    }\n\n    .dataframe tbody tr th {\n        vertical-align: top;\n    }\n\n    .dataframe thead th {\n        text-align: right;\n    }\n</style>\n<table border=\"1\" class=\"dataframe\">\n  <thead>\n    <tr style=\"text-align: right;\">\n      <th></th>\n      <th>address</th>\n      <th>name</th>\n      <th>age</th>\n      <th>C</th>\n    </tr>\n  </thead>\n  <tbody>\n    <tr>\n      <th>0</th>\n      <td>Walloons 16</td>\n      <td>Viktoriia</td>\n      <td>28</td>\n      <td>10</td>\n    </tr>\n    <tr>\n      <th>1</th>\n      <td>Traugutta 76</td>\n      <td>orange</td>\n      <td>27</td>\n      <td>20</td>\n    </tr>\n    <tr>\n      <th>2</th>\n      <td>Shekspira 7</td>\n      <td>Viktoriia</td>\n      <td>32</td>\n      <td>30</td>\n    </tr>\n    <tr>\n      <th>3</th>\n      <td>Saksaganskogo 8</td>\n      <td>Viktoriia</td>\n      <td>3</td>\n      <td>40</td>\n    </tr>\n  </tbody>\n</table>\n</div>"
     },
     "execution_count": 205,
     "metadata": {},
     "output_type": "execute_result"
    }
   ],
   "source": [
    "df.at[1, 'name'] = 'orange'\n",
    "df"
   ],
   "metadata": {
    "collapsed": false,
    "ExecuteTime": {
     "end_time": "2024-01-19T16:19:28.856100400Z",
     "start_time": "2024-01-19T16:19:28.814678400Z"
    }
   },
   "id": "80d45224feb5d19b"
  },
  {
   "cell_type": "markdown",
   "source": [
    "----------------------------заполнить строчку----------------------------------"
   ],
   "metadata": {
    "collapsed": false
   },
   "id": "9c145935ce89f5a6"
  },
  {
   "cell_type": "code",
   "execution_count": 207,
   "outputs": [
    {
     "data": {
      "text/plain": "           address       name age   C\n0      Walloons 16  Viktoriia  28  10\n1                6          6   6   6\n2      Shekspira 7  Viktoriia  32  30\n3  Saksaganskogo 8  Viktoriia   3  40",
      "text/html": "<div>\n<style scoped>\n    .dataframe tbody tr th:only-of-type {\n        vertical-align: middle;\n    }\n\n    .dataframe tbody tr th {\n        vertical-align: top;\n    }\n\n    .dataframe thead th {\n        text-align: right;\n    }\n</style>\n<table border=\"1\" class=\"dataframe\">\n  <thead>\n    <tr style=\"text-align: right;\">\n      <th></th>\n      <th>address</th>\n      <th>name</th>\n      <th>age</th>\n      <th>C</th>\n    </tr>\n  </thead>\n  <tbody>\n    <tr>\n      <th>0</th>\n      <td>Walloons 16</td>\n      <td>Viktoriia</td>\n      <td>28</td>\n      <td>10</td>\n    </tr>\n    <tr>\n      <th>1</th>\n      <td>6</td>\n      <td>6</td>\n      <td>6</td>\n      <td>6</td>\n    </tr>\n    <tr>\n      <th>2</th>\n      <td>Shekspira 7</td>\n      <td>Viktoriia</td>\n      <td>32</td>\n      <td>30</td>\n    </tr>\n    <tr>\n      <th>3</th>\n      <td>Saksaganskogo 8</td>\n      <td>Viktoriia</td>\n      <td>3</td>\n      <td>40</td>\n    </tr>\n  </tbody>\n</table>\n</div>"
     },
     "execution_count": 207,
     "metadata": {},
     "output_type": "execute_result"
    }
   ],
   "source": [
    "df.iloc[1] = \"6\"\n",
    "df"
   ],
   "metadata": {
    "collapsed": false,
    "ExecuteTime": {
     "end_time": "2024-01-19T16:20:44.328247100Z",
     "start_time": "2024-01-19T16:20:44.289038200Z"
    }
   },
   "id": "ed948c48f53f51b0"
  },
  {
   "cell_type": "markdown",
   "source": [
    "-----------------------------заполнить nan---------------------------"
   ],
   "metadata": {
    "collapsed": false
   },
   "id": "6ef388a47f718320"
  },
  {
   "cell_type": "code",
   "execution_count": 197,
   "outputs": [
    {
     "data": {
      "text/plain": "0    Viktoriia\n1        Olena\n2    Volodymyr\n3      Oleksii\nName: name, dtype: object"
     },
     "execution_count": 197,
     "metadata": {},
     "output_type": "execute_result"
    }
   ],
   "source": [
    "df['name'].fillna(0)"
   ],
   "metadata": {
    "collapsed": false,
    "ExecuteTime": {
     "start_time": "2024-01-19T16:14:59.076428600Z"
    }
   },
   "id": "45ed9ee42f8dd311"
  },
  {
   "cell_type": "markdown",
   "source": [
    "---------------------------------------------удалить колонки------------------------------------------"
   ],
   "metadata": {
    "collapsed": false
   },
   "id": "10307fca17de64a1"
  },
  {
   "cell_type": "code",
   "execution_count": 223,
   "outputs": [
    {
     "name": "stdout",
     "output_type": "stream",
     "text": [
      "           address       name  age\n",
      "0      Walloons 16  Viktoriia   28\n",
      "1     Traugutta 76      Olena   27\n",
      "2      Shekspira 7  Volodymyr   32\n",
      "3  Saksaganskogo 8    Oleksii    3\n"
     ]
    },
    {
     "data": {
      "text/plain": "           address  age\n0      Walloons 16   28\n1     Traugutta 76   27\n2      Shekspira 7   32\n3  Saksaganskogo 8    3",
      "text/html": "<div>\n<style scoped>\n    .dataframe tbody tr th:only-of-type {\n        vertical-align: middle;\n    }\n\n    .dataframe tbody tr th {\n        vertical-align: top;\n    }\n\n    .dataframe thead th {\n        text-align: right;\n    }\n</style>\n<table border=\"1\" class=\"dataframe\">\n  <thead>\n    <tr style=\"text-align: right;\">\n      <th></th>\n      <th>address</th>\n      <th>age</th>\n    </tr>\n  </thead>\n  <tbody>\n    <tr>\n      <th>0</th>\n      <td>Walloons 16</td>\n      <td>28</td>\n    </tr>\n    <tr>\n      <th>1</th>\n      <td>Traugutta 76</td>\n      <td>27</td>\n    </tr>\n    <tr>\n      <th>2</th>\n      <td>Shekspira 7</td>\n      <td>32</td>\n    </tr>\n    <tr>\n      <th>3</th>\n      <td>Saksaganskogo 8</td>\n      <td>3</td>\n    </tr>\n  </tbody>\n</table>\n</div>"
     },
     "execution_count": 223,
     "metadata": {},
     "output_type": "execute_result"
    }
   ],
   "source": [
    "print(df)\n",
    "df = df.drop(df.columns[1], axis=1)\n",
    "df"
   ],
   "metadata": {
    "collapsed": false,
    "ExecuteTime": {
     "end_time": "2024-01-19T16:31:06.080698200Z",
     "start_time": "2024-01-19T16:31:06.043579600Z"
    }
   },
   "id": "720d18dbd772c0f0"
  },
  {
   "cell_type": "markdown",
   "source": [
    "-----------------------------------------удалить конкретное значение--------------------------------------"
   ],
   "metadata": {
    "collapsed": false
   },
   "id": "d2a94f827e0f4208"
  },
  {
   "cell_type": "code",
   "execution_count": 226,
   "outputs": [
    {
     "data": {
      "text/plain": "           address   age\n0      Walloons 16    28\n2      Shekspira 7  <NA>\n3  Saksaganskogo 8     3",
      "text/html": "<div>\n<style scoped>\n    .dataframe tbody tr th:only-of-type {\n        vertical-align: middle;\n    }\n\n    .dataframe tbody tr th {\n        vertical-align: top;\n    }\n\n    .dataframe thead th {\n        text-align: right;\n    }\n</style>\n<table border=\"1\" class=\"dataframe\">\n  <thead>\n    <tr style=\"text-align: right;\">\n      <th></th>\n      <th>address</th>\n      <th>age</th>\n    </tr>\n  </thead>\n  <tbody>\n    <tr>\n      <th>0</th>\n      <td>Walloons 16</td>\n      <td>28</td>\n    </tr>\n    <tr>\n      <th>2</th>\n      <td>Shekspira 7</td>\n      <td>&lt;NA&gt;</td>\n    </tr>\n    <tr>\n      <th>3</th>\n      <td>Saksaganskogo 8</td>\n      <td>3</td>\n    </tr>\n  </tbody>\n</table>\n</div>"
     },
     "execution_count": 226,
     "metadata": {},
     "output_type": "execute_result"
    }
   ],
   "source": [
    "df['age'] = df['age'].replace(32, pd.NA)\n",
    "df"
   ],
   "metadata": {
    "collapsed": false,
    "ExecuteTime": {
     "end_time": "2024-01-19T16:34:00.129606500Z",
     "start_time": "2024-01-19T16:34:00.105822900Z"
    }
   },
   "id": "5c461697a50da88d"
  },
  {
   "cell_type": "markdown",
   "source": [
    "-----------------------------------------------удалить строчку--------------------------------------------------"
   ],
   "metadata": {
    "collapsed": false
   },
   "id": "4180bd3e9afeacd8"
  },
  {
   "cell_type": "code",
   "execution_count": 224,
   "outputs": [
    {
     "name": "stdout",
     "output_type": "stream",
     "text": [
      "           address  age\n",
      "0      Walloons 16   28\n",
      "1     Traugutta 76   27\n",
      "2      Shekspira 7   32\n",
      "3  Saksaganskogo 8    3\n"
     ]
    },
    {
     "data": {
      "text/plain": "           address  age\n0      Walloons 16   28\n2      Shekspira 7   32\n3  Saksaganskogo 8    3",
      "text/html": "<div>\n<style scoped>\n    .dataframe tbody tr th:only-of-type {\n        vertical-align: middle;\n    }\n\n    .dataframe tbody tr th {\n        vertical-align: top;\n    }\n\n    .dataframe thead th {\n        text-align: right;\n    }\n</style>\n<table border=\"1\" class=\"dataframe\">\n  <thead>\n    <tr style=\"text-align: right;\">\n      <th></th>\n      <th>address</th>\n      <th>age</th>\n    </tr>\n  </thead>\n  <tbody>\n    <tr>\n      <th>0</th>\n      <td>Walloons 16</td>\n      <td>28</td>\n    </tr>\n    <tr>\n      <th>2</th>\n      <td>Shekspira 7</td>\n      <td>32</td>\n    </tr>\n    <tr>\n      <th>3</th>\n      <td>Saksaganskogo 8</td>\n      <td>3</td>\n    </tr>\n  </tbody>\n</table>\n</div>"
     },
     "execution_count": 224,
     "metadata": {},
     "output_type": "execute_result"
    }
   ],
   "source": [
    "print(df)\n",
    "df = df.drop(1, axis=0)\n",
    "df"
   ],
   "metadata": {
    "collapsed": false,
    "ExecuteTime": {
     "start_time": "2024-01-19T16:31:23.838647700Z"
    }
   },
   "id": "298fc5bdeec41f78"
  }
 ],
 "metadata": {
  "kernelspec": {
   "display_name": "Python 3",
   "language": "python",
   "name": "python3"
  },
  "language_info": {
   "codemirror_mode": {
    "name": "ipython",
    "version": 2
   },
   "file_extension": ".py",
   "mimetype": "text/x-python",
   "name": "python",
   "nbconvert_exporter": "python",
   "pygments_lexer": "ipython2",
   "version": "2.7.6"
  }
 },
 "nbformat": 4,
 "nbformat_minor": 5
}
