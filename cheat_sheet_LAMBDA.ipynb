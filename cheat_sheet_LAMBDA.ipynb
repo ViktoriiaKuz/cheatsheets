{
 "cells": [
  {
   "cell_type": "code",
   "execution_count": 1,
   "id": "initial_id",
   "metadata": {
    "collapsed": true,
    "ExecuteTime": {
     "end_time": "2024-01-19T16:39:29.567625100Z",
     "start_time": "2024-01-19T16:39:29.009389800Z"
    }
   },
   "outputs": [
    {
     "name": "stdout",
     "output_type": "stream",
     "text": [
      "\n",
      "DataFrame with New Column 'is_adult':\n",
      "           address       name  age is_adult\n",
      "0      Walloons 16  Viktoriia   28    Adult\n",
      "1     Traugutta 76      Olena   27    Adult\n",
      "2      Shekspira 7  Volodymyr   32    Adult\n",
      "3  Saksaganskogo 8    Oleksii    3    Child\n",
      "\n",
      "Names starting with 'O':\n",
      "['Olena', 'Oleksii']\n"
     ]
    }
   ],
   "source": [
    "import pandas as pd\n",
    "\n",
    "df_data = [[\"Walloons 16\", \"Viktoriia\", 28], [\"Traugutta 76\", \"Olena\", 27],\n",
    "           [\"Shekspira 7\", \"Volodymyr\", 32], [\"Saksaganskogo 8\", \"Oleksii\", 3]]\n",
    "\n",
    "columns = [\"address\", \"name\", \"age\"]\n",
    "\n",
    "df = pd.DataFrame(df_data, columns=columns)\n",
    "\n",
    "\n",
    "df['is_adult'] = df['age'].apply(lambda age: 'Adult' if age >= 18 else 'Child')\n",
    "\n",
    "\n",
    "names_with_o = df['name'][df['name'].apply(lambda name: name.startswith('O'))]\n",
    "\n",
    "print(\"\\nDataFrame with New Column 'is_adult':\")\n",
    "print(df)\n",
    "print(\"\\nNames starting with 'O':\")\n",
    "print(names_with_o.to_list())"
   ]
  },
  {
   "cell_type": "code",
   "execution_count": null,
   "outputs": [],
   "source": [],
   "metadata": {
    "collapsed": false
   },
   "id": "4dd9cc7ce21e41"
  }
 ],
 "metadata": {
  "kernelspec": {
   "display_name": "Python 3",
   "language": "python",
   "name": "python3"
  },
  "language_info": {
   "codemirror_mode": {
    "name": "ipython",
    "version": 2
   },
   "file_extension": ".py",
   "mimetype": "text/x-python",
   "name": "python",
   "nbconvert_exporter": "python",
   "pygments_lexer": "ipython2",
   "version": "2.7.6"
  }
 },
 "nbformat": 4,
 "nbformat_minor": 5
}
