{
 "cells": [
  {
   "cell_type": "code",
   "execution_count": 2,
   "id": "initial_id",
   "metadata": {
    "collapsed": true,
    "ExecuteTime": {
     "end_time": "2024-01-19T15:42:52.938679400Z",
     "start_time": "2024-01-19T15:42:52.930540200Z"
    }
   },
   "outputs": [
    {
     "name": "stdout",
     "output_type": "stream",
     "text": [
      "[7, 10, 23, 34]\n"
     ]
    }
   ],
   "source": [
    "my_list = [1, 2, 3, 5, 2, 5, 2, 7, 10, 23, 3, 34]\n",
    "\n",
    "result = [value for value in my_list if value > 5]\n",
    "\n",
    "print(result)"
   ]
  },
  {
   "cell_type": "code",
   "execution_count": 16,
   "outputs": [
    {
     "data": {
      "text/plain": "[5, 2]"
     },
     "execution_count": 16,
     "metadata": {},
     "output_type": "execute_result"
    }
   ],
   "source": [
    "my_list[3:5]"
   ],
   "metadata": {
    "collapsed": false,
    "ExecuteTime": {
     "end_time": "2024-01-19T15:50:17.238258Z",
     "start_time": "2024-01-19T15:50:17.226711300Z"
    }
   },
   "id": "898103795f15c08c"
  },
  {
   "cell_type": "code",
   "execution_count": 4,
   "outputs": [
    {
     "name": "stdout",
     "output_type": "stream",
     "text": [
      "[1, 2, 3, 2, 2, 3]\n"
     ]
    }
   ],
   "source": [
    "result = list(filter(lambda x: x < 5, my_list))\n",
    "\n",
    "print(result)"
   ],
   "metadata": {
    "collapsed": false,
    "ExecuteTime": {
     "end_time": "2024-01-19T15:43:08.762943200Z",
     "start_time": "2024-01-19T15:43:08.751674800Z"
    }
   },
   "id": "98248d9029069427"
  },
  {
   "cell_type": "code",
   "execution_count": 5,
   "outputs": [
    {
     "data": {
      "text/plain": "array([ 1,  2,  3,  5,  2,  5,  2,  7, 10, 23,  3, 34])"
     },
     "execution_count": 5,
     "metadata": {},
     "output_type": "execute_result"
    }
   ],
   "source": [
    "import numpy as np\n",
    "\n",
    "my_array = np.array([1, 2, 3, 5, 2, 5, 2, 7, 10, 23, 3, 34])\n",
    "\n",
    "my_array"
   ],
   "metadata": {
    "collapsed": false,
    "ExecuteTime": {
     "end_time": "2024-01-19T15:45:57.618560Z",
     "start_time": "2024-01-19T15:45:57.461068900Z"
    }
   },
   "id": "18f0eb9cbe2c1adc"
  },
  {
   "cell_type": "code",
   "execution_count": 8,
   "outputs": [
    {
     "name": "stdout",
     "output_type": "stream",
     "text": [
      "[7, 10, 23, 34]\n"
     ]
    }
   ],
   "source": [
    "result = list(filter(lambda x: x > 5, my_array))\n",
    "\n",
    "print(result)"
   ],
   "metadata": {
    "collapsed": false,
    "ExecuteTime": {
     "end_time": "2024-01-19T15:46:49.034938100Z",
     "start_time": "2024-01-19T15:46:49.023799700Z"
    }
   },
   "id": "4ff9024fd5dca505"
  },
  {
   "cell_type": "code",
   "execution_count": 9,
   "outputs": [
    {
     "name": "stdout",
     "output_type": "stream",
     "text": [
      "[1, 2, 3, 2, 2, 3]\n"
     ]
    }
   ],
   "source": [
    "result = list(filter(lambda x: x < 5, my_list))\n",
    "\n",
    "print(result)"
   ],
   "metadata": {
    "collapsed": false,
    "ExecuteTime": {
     "end_time": "2024-01-19T15:46:50.949785500Z",
     "start_time": "2024-01-19T15:46:50.945569Z"
    }
   },
   "id": "c5ef7e0d18044878"
  },
  {
   "cell_type": "code",
   "execution_count": 11,
   "outputs": [
    {
     "name": "stdout",
     "output_type": "stream",
     "text": [
      "[1 2 3 2 2 3]\n"
     ]
    }
   ],
   "source": [
    "mask = my_array < 5\n",
    "\n",
    "filtered_array = my_array[mask]\n",
    "\n",
    "print(filtered_array)"
   ],
   "metadata": {
    "collapsed": false,
    "ExecuteTime": {
     "end_time": "2024-01-19T15:47:33.040411200Z",
     "start_time": "2024-01-19T15:47:33.031091Z"
    }
   },
   "id": "b25beab2edb66b1f"
  },
  {
   "cell_type": "code",
   "execution_count": 15,
   "outputs": [
    {
     "name": "stdout",
     "output_type": "stream",
     "text": [
      "[5 2]\n"
     ]
    }
   ],
   "source": [
    "filtered_array = my_array[3:5]\n",
    "\n",
    "print(filtered_array)"
   ],
   "metadata": {
    "collapsed": false,
    "ExecuteTime": {
     "end_time": "2024-01-19T15:49:46.196262200Z",
     "start_time": "2024-01-19T15:49:46.184726100Z"
    }
   },
   "id": "b41a2804549668df"
  },
  {
   "cell_type": "markdown",
   "source": [
    "--------------------------конкретная позиция--------------------------------"
   ],
   "metadata": {
    "collapsed": false
   },
   "id": "c578f756a46fe917"
  },
  {
   "cell_type": "code",
   "execution_count": 13,
   "outputs": [
    {
     "name": "stdout",
     "output_type": "stream",
     "text": [
      "1\n"
     ]
    }
   ],
   "source": [
    "filtered_array = my_array[0]\n",
    "\n",
    "print(filtered_array)"
   ],
   "metadata": {
    "collapsed": false,
    "ExecuteTime": {
     "end_time": "2024-01-19T15:48:47.642164700Z",
     "start_time": "2024-01-19T15:48:47.632748Z"
    }
   },
   "id": "c7e97b1d4a73c3fd"
  },
  {
   "cell_type": "code",
   "execution_count": null,
   "outputs": [],
   "source": [],
   "metadata": {
    "collapsed": false
   },
   "id": "5b5b8f7b4fb41ade"
  }
 ],
 "metadata": {
  "kernelspec": {
   "display_name": "Python 3",
   "language": "python",
   "name": "python3"
  },
  "language_info": {
   "codemirror_mode": {
    "name": "ipython",
    "version": 2
   },
   "file_extension": ".py",
   "mimetype": "text/x-python",
   "name": "python",
   "nbconvert_exporter": "python",
   "pygments_lexer": "ipython2",
   "version": "2.7.6"
  }
 },
 "nbformat": 4,
 "nbformat_minor": 5
}
