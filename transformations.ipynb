{
 "cells": [
  {
   "cell_type": "markdown",
   "source": [
    "-----------------------------DataFrame to dict -------------------------------\n"
   ],
   "metadata": {
    "collapsed": false
   },
   "id": "672ec261857cbbff"
  },
  {
   "cell_type": "code",
   "execution_count": 3,
   "outputs": [
    {
     "data": {
      "text/plain": "{0: {0: 'Walonska 16', 1: 'Viktoriia', 2: 28},\n 1: {0: 'Traugutta 76', 1: 'Olena', 2: 27},\n 2: {0: 'Shekspira 7', 1: 'Volodymyr', 2: 32},\n 3: {0: 'Saksaganskogo 8', 1: 'Oleksii', 2: 3}}"
     },
     "execution_count": 3,
     "metadata": {},
     "output_type": "execute_result"
    }
   ],
   "source": [
    "import pandas as pd\n",
    "\n",
    "df = pd.DataFrame([[\"Walonska 16\", \"Traugutta 76\", \"Shekspira 7\", \"Saksaganskogo 8\"], \n",
    "                   [ \"Viktoriia\", \"Olena\", \"Volodymyr\", \"Oleksii\"], \n",
    "                   [ 28, 27, 32, 3]])\n",
    "\n",
    "df_dict = df.to_dict()\n",
    "# df.to_dict(orient = records)\n",
    "\n",
    "df_dict"
   ],
   "metadata": {
    "collapsed": false,
    "ExecuteTime": {
     "end_time": "2024-01-19T15:54:39.562246200Z",
     "start_time": "2024-01-19T15:54:39.555522Z"
    }
   },
   "id": "initial_id"
  },
  {
   "cell_type": "markdown",
   "source": [
    "-----------------------Array to dataframe---------------------------"
   ],
   "metadata": {
    "collapsed": false
   },
   "id": "f22d440c4420e5d7"
  },
  {
   "cell_type": "code",
   "execution_count": 4,
   "outputs": [
    {
     "name": "stdout",
     "output_type": "stream",
     "text": [
      "   0  1  2\n",
      "0  1  2  3\n",
      "1  4  5  6\n",
      "2  7  8  9\n"
     ]
    }
   ],
   "source": [
    "import numpy as np\n",
    "\n",
    "my_array = np.array([[1, 2, 3],\n",
    "                     [4, 5, 6],\n",
    "                     [7, 8, 9]])\n",
    "\n",
    "\n",
    "df = pd.DataFrame(my_array)\n",
    "\n",
    "print(df)"
   ],
   "metadata": {
    "collapsed": false,
    "ExecuteTime": {
     "end_time": "2024-01-19T15:56:36.375008600Z",
     "start_time": "2024-01-19T15:56:36.358523700Z"
    }
   },
   "id": "4ca4489065c5d0c4"
  },
  {
   "cell_type": "code",
   "execution_count": 5,
   "outputs": [
    {
     "name": "stdout",
     "output_type": "stream",
     "text": [
      "   0  1  2\n",
      "0  1  2  3\n"
     ]
    }
   ],
   "source": [
    "my_array = np.array([[1, 2, 3]])\n",
    "\n",
    "\n",
    "df = pd.DataFrame(my_array)\n",
    "\n",
    "print(df)"
   ],
   "metadata": {
    "collapsed": false,
    "ExecuteTime": {
     "end_time": "2024-01-19T15:57:00.958857400Z",
     "start_time": "2024-01-19T15:57:00.944296700Z"
    }
   },
   "id": "a4f9ee5ba501d9ac"
  },
  {
   "cell_type": "markdown",
   "source": [
    "---------------------------concat lists to create dataframe----------------------------"
   ],
   "metadata": {
    "collapsed": false
   },
   "id": "f5a3e16044353f8b"
  },
  {
   "cell_type": "code",
   "execution_count": 6,
   "outputs": [
    {
     "name": "stdout",
     "output_type": "stream",
     "text": [
      "      name  age           city\n",
      "0    Alice   25       New York\n",
      "1      Bob   30  San Francisco\n",
      "2  Charlie   35    Los Angeles\n"
     ]
    }
   ],
   "source": [
    "names = ['Alice', 'Bob', 'Charlie']\n",
    "ages = [25, 30, 35]\n",
    "cities = ['New York', 'San Francisco', 'Los Angeles']\n",
    "\n",
    "df = pd.DataFrame({'name': names, 'age': ages, 'city': cities})\n",
    "\n",
    "print(df)"
   ],
   "metadata": {
    "collapsed": false,
    "ExecuteTime": {
     "start_time": "2024-01-19T15:57:38.450507900Z"
    }
   },
   "id": "a57911b71cd2fb86"
  },
  {
   "cell_type": "markdown",
   "source": [
    "----------------concat---------------------"
   ],
   "metadata": {
    "collapsed": false
   },
   "id": "b153e15f2825689e"
  },
  {
   "cell_type": "code",
   "execution_count": 11,
   "outputs": [
    {
     "name": "stdout",
     "output_type": "stream",
     "text": [
      "Concatenated DataFrame:\n",
      "    A   B   C   D\n",
      "0  A0  B0  C0  D0\n",
      "1  A1  B1  C1  D1\n",
      "2  A2  B2  C2  D2\n"
     ]
    }
   ],
   "source": [
    "df1 = pd.DataFrame({'A': ['A0', 'A1', 'A2'],\n",
    "                    'B': ['B0', 'B1', 'B2']\n",
    "                    })\n",
    "\n",
    "df2 = pd.DataFrame({'C': ['C0', 'C1', 'C2'],\n",
    "                    'D': ['D0', 'D1', 'D2']\n",
    "                    })\n",
    "\n",
    "result_concat = pd.concat([df1, df2], axis=1)\n",
    "\n",
    "print(\"Concatenated DataFrame:\")\n",
    "print(result_concat)"
   ],
   "metadata": {
    "collapsed": false,
    "ExecuteTime": {
     "end_time": "2024-01-19T16:00:26.794394100Z",
     "start_time": "2024-01-19T16:00:26.782329300Z"
    }
   },
   "id": "150df991af5c16da"
  },
  {
   "cell_type": "markdown",
   "source": [
    "---------------merge----------------------"
   ],
   "metadata": {
    "collapsed": false
   },
   "id": "d759641a9a1044e1"
  },
  {
   "cell_type": "code",
   "execution_count": 13,
   "outputs": [
    {
     "name": "stdout",
     "output_type": "stream",
     "text": [
      "Merged DataFrame:\n",
      "  key   A   B   C   D\n",
      "0  K0  A0  B0  C0  D0\n",
      "1  K1  A1  B1  C1  D1\n",
      "2  K2  A2  B2  C2  D2\n"
     ]
    }
   ],
   "source": [
    "df1 = pd.DataFrame({'key': ['K0', 'K1', 'K2'],\n",
    "                    'A': ['A0', 'A1', 'A2'],\n",
    "                    'B': ['B0', 'B1', 'B2']})\n",
    "\n",
    "df2 = pd.DataFrame({'key': ['K0', 'K1', 'K2'],\n",
    "                    'C': ['C0', 'C1', 'C2'],\n",
    "                    'D': ['D0', 'D1', 'D2']})\n",
    "\n",
    "result_merge = pd.merge(df1, df2, on='key')\n",
    "\n",
    "print(\"Merged DataFrame:\")\n",
    "print(result_merge)"
   ],
   "metadata": {
    "collapsed": false,
    "ExecuteTime": {
     "end_time": "2024-01-19T16:00:56.339481100Z",
     "start_time": "2024-01-19T16:00:56.312959Z"
    }
   },
   "id": "282b358c1e7dfde3"
  },
  {
   "cell_type": "code",
   "execution_count": 24,
   "outputs": [
    {
     "name": "stdout",
     "output_type": "stream",
     "text": [
      "Merged DataFrame:\n",
      "    A   B key   C   D ket\n",
      "0  A0  B0  K0  C0  D0  K0\n",
      "1  A1  B1  K1  C1  D1  K1\n",
      "2  A2  B2  K2  C2  D2  K2\n"
     ]
    }
   ],
   "source": [
    "df1 = pd.DataFrame({\n",
    "                    'A': ['A0', 'A1', 'A2'],\n",
    "                    'B': ['B0', 'B1', 'B2'],\n",
    "                    'key': ['K0', 'K1', 'K2']})\n",
    "\n",
    "df2 = pd.DataFrame({\n",
    "                    'C': ['C0', 'C1', 'C2'],\n",
    "                    'D': ['D0', 'D1', 'D2'],\n",
    "                    'ket': ['K0', 'K1', 'K2']})\n",
    "\n",
    "result_merge = pd.merge(df1, df2, left_on='key', right_on ='ket')\n",
    "\n",
    "print(\"Merged DataFrame:\")\n",
    "print(result_merge)"
   ],
   "metadata": {
    "collapsed": false,
    "ExecuteTime": {
     "end_time": "2024-01-19T16:06:05.360518800Z",
     "start_time": "2024-01-19T16:06:05.353511600Z"
    }
   },
   "id": "e56f12337ceaa950"
  },
  {
   "cell_type": "code",
   "execution_count": 28,
   "outputs": [
    {
     "name": "stdout",
     "output_type": "stream",
     "text": [
      "Merged DataFrame:\n",
      "  key_0   A   B   C   D\n",
      "0    K0  A0  B0  C0  D0\n",
      "1    K1  A1  B1  C1  D1\n",
      "2    K2  A2  B2  C2  D2\n"
     ]
    }
   ],
   "source": [
    "df1 = pd.DataFrame({\n",
    "                    'A': ['A0', 'A1', 'A2'],\n",
    "                    'B': ['B0', 'B1', 'B2'],\n",
    "                    'key': ['K0', 'K1', 'K2']})\n",
    "df1 = df1.set_index('key')\n",
    "\n",
    "df2 = pd.DataFrame({\n",
    "                    'C': ['C0', 'C1', 'C2'],\n",
    "                    'D': ['D0', 'D1', 'D2'],\n",
    "                    'ket': ['K0', 'K1', 'K2']})\n",
    "df2 = df2.set_index('ket')\n",
    "\n",
    "result_merge = pd.merge(df1, df2, left_on=df1.index, right_on =df1.index)\n",
    "\n",
    "print(\"Merged DataFrame:\")\n",
    "print(result_merge)"
   ],
   "metadata": {
    "collapsed": false,
    "ExecuteTime": {
     "end_time": "2024-01-19T16:07:50.866807500Z",
     "start_time": "2024-01-19T16:07:50.857383200Z"
    }
   },
   "id": "e49b6e019b8779d8"
  },
  {
   "cell_type": "code",
   "execution_count": null,
   "outputs": [],
   "source": [],
   "metadata": {
    "collapsed": false
   },
   "id": "f0b3e644ce0e783f"
  }
 ],
 "metadata": {
  "kernelspec": {
   "display_name": "Python 3",
   "language": "python",
   "name": "python3"
  },
  "language_info": {
   "codemirror_mode": {
    "name": "ipython",
    "version": 2
   },
   "file_extension": ".py",
   "mimetype": "text/x-python",
   "name": "python",
   "nbconvert_exporter": "python",
   "pygments_lexer": "ipython2",
   "version": "2.7.6"
  }
 },
 "nbformat": 4,
 "nbformat_minor": 5
}
