{
 "cells": [
  {
   "cell_type": "code",
   "execution_count": 5,
   "id": "initial_id",
   "metadata": {
    "collapsed": true,
    "ExecuteTime": {
     "end_time": "2024-01-19T16:38:34.792742100Z",
     "start_time": "2024-01-19T16:38:34.780071200Z"
    }
   },
   "outputs": [
    {
     "name": "stdout",
     "output_type": "stream",
     "text": [
      "\n",
      "DataFrame with New Column 'is_adult':\n",
      "           address       name  age is_adult\n",
      "0      Walloons 16  Viktoriia   28    Adult\n",
      "1     Traugutta 76      Olena   27    Adult\n",
      "2      Shekspira 7  Volodymyr   32    Adult\n",
      "3  Saksaganskogo 8    Oleksii    3    Child\n",
      "\n",
      "Names starting with 'O': ['Olena', 'Oleksii']\n"
     ]
    }
   ],
   "source": [
    "import pandas as pd\n",
    "\n",
    "df = [[\"Walloons 16\", \"Viktoriia\", 28], [\"Traugutta 76\" , \"Olena\", 27], [\"Shekspira 7\", \"Volodymyr\", 32], [ \"Saksaganskogo 8\",\"Oleksii\", 3]]\n",
    "columns =  [\"address\",\"name\",\"age\"]\n",
    "df = pd.DataFrame(df, columns = columns)\n",
    "\n",
    "\n",
    "df['is_adult'] = ['Adult' if age >= 18 else 'Child' for age in df['age']]\n",
    "\n",
    "names_with_o = [name for name in df['name'] if name.startswith('O')]\n",
    "\n",
    "print(\"\\nDataFrame with New Column 'is_adult':\")\n",
    "print(df)\n",
    "print(\"\\nNames starting with 'O':\", names_with_o)"
   ]
  },
  {
   "cell_type": "code",
   "execution_count": null,
   "outputs": [],
   "source": [],
   "metadata": {
    "collapsed": false
   },
   "id": "ba23ccf89d683ab0"
  }
 ],
 "metadata": {
  "kernelspec": {
   "display_name": "Python 3",
   "language": "python",
   "name": "python3"
  },
  "language_info": {
   "codemirror_mode": {
    "name": "ipython",
    "version": 2
   },
   "file_extension": ".py",
   "mimetype": "text/x-python",
   "name": "python",
   "nbconvert_exporter": "python",
   "pygments_lexer": "ipython2",
   "version": "2.7.6"
  }
 },
 "nbformat": 4,
 "nbformat_minor": 5
}
