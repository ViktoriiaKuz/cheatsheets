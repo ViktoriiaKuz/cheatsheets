{
 "cells": [
  {
   "cell_type": "markdown",
   "source": [
    " d[key]=value\n",
    " d[key]→ value\n",
    " d.keys()\n",
    " d.values()\n",
    " d.items()\n",
    " d.clear()\n",
    " del d[key]\n",
    " →iterable views on\n",
    " keys/values/associations\n",
    " Examples\n",
    " d.pop(key[,default])→ value\n",
    " d.popitem()→ (key,value)\n",
    " d.get(key[,default])→ value\n",
    " d.setdefault(key[,default])→value"
   ],
   "metadata": {
    "collapsed": false
   },
   "id": "9c9b14da9298ab5c"
  },
  {
   "cell_type": "code",
   "execution_count": 2,
   "outputs": [
    {
     "data": {
      "text/plain": "{'name': ['Tom', 'Jack', 'Steve', 'Ricky'], 'age': [28, 34, 29, 42]}"
     },
     "execution_count": 2,
     "metadata": {},
     "output_type": "execute_result"
    }
   ],
   "source": [
    "dictionary = {'name':['Tom', 'Jack', 'Steve', 'Ricky'],'age':[28,34,29,42]}\n",
    "dictionary"
   ],
   "metadata": {
    "collapsed": false,
    "ExecuteTime": {
     "start_time": "2024-01-19T14:56:13.262864400Z"
    }
   },
   "id": "initial_id"
  },
  {
   "cell_type": "code",
   "execution_count": 3,
   "outputs": [
    {
     "data": {
      "text/plain": "dict_values([['Tom', 'Jack', 'Steve', 'Ricky'], [28, 34, 29, 42]])"
     },
     "execution_count": 3,
     "metadata": {},
     "output_type": "execute_result"
    }
   ],
   "source": [
    "dictionary.values()"
   ],
   "metadata": {
    "collapsed": false,
    "ExecuteTime": {
     "end_time": "2024-01-19T14:56:22.958083Z",
     "start_time": "2024-01-19T14:56:22.947976800Z"
    }
   },
   "id": "6a976460fd2adfa3"
  },
  {
   "cell_type": "code",
   "execution_count": 4,
   "outputs": [
    {
     "data": {
      "text/plain": "dict_keys(['name', 'age'])"
     },
     "execution_count": 4,
     "metadata": {},
     "output_type": "execute_result"
    }
   ],
   "source": [
    "dictionary.keys()"
   ],
   "metadata": {
    "collapsed": false,
    "ExecuteTime": {
     "end_time": "2024-01-19T14:56:36.691754400Z",
     "start_time": "2024-01-19T14:56:36.681452Z"
    }
   },
   "id": "597fcf3278d733ba"
  },
  {
   "cell_type": "code",
   "execution_count": 7,
   "outputs": [
    {
     "data": {
      "text/plain": "'Jack'"
     },
     "execution_count": 7,
     "metadata": {},
     "output_type": "execute_result"
    }
   ],
   "source": [
    "dictionary['name'][1]"
   ],
   "metadata": {
    "collapsed": false,
    "ExecuteTime": {
     "end_time": "2024-01-19T14:57:20.289804Z",
     "start_time": "2024-01-19T14:57:20.277353600Z"
    }
   },
   "id": "3a3d2d293779f32b"
  },
  {
   "cell_type": "code",
   "execution_count": 11,
   "outputs": [
    {
     "data": {
      "text/plain": "['Tom', 'Jack', 'Steve', 'Ricky']"
     },
     "execution_count": 11,
     "metadata": {},
     "output_type": "execute_result"
    }
   ],
   "source": [
    "dictionary['name']"
   ],
   "metadata": {
    "collapsed": false,
    "ExecuteTime": {
     "end_time": "2024-01-19T14:59:21.772564400Z",
     "start_time": "2024-01-19T14:59:21.763600200Z"
    }
   },
   "id": "1f1de42ac7138d7d"
  },
  {
   "cell_type": "code",
   "execution_count": 10,
   "outputs": [
    {
     "data": {
      "text/plain": "dict_items([('name', ['Tom', 'Jack', 'Steve', 'Ricky']), ('age', [28, 34, 29, 42])])"
     },
     "execution_count": 10,
     "metadata": {},
     "output_type": "execute_result"
    }
   ],
   "source": [
    "dictionary.items()"
   ],
   "metadata": {
    "collapsed": false,
    "ExecuteTime": {
     "end_time": "2024-01-19T14:59:18.491257700Z",
     "start_time": "2024-01-19T14:59:18.481759Z"
    }
   },
   "id": "a0ce8568b4e9b2eb"
  },
  {
   "cell_type": "code",
   "execution_count": 47,
   "outputs": [
    {
     "name": "stdout",
     "output_type": "stream",
     "text": [
      "{'age': [30, 40], 'name': ['Bob', 'Charlie']}\n"
     ]
    }
   ],
   "source": [
    "dictionary = {'age': [20, 30, 40], 'name': ['Alice', 'Bob', 'Charlie']}\n",
    "\n",
    "selected_dict = {key: [value[i] for i, age in enumerate(dictionary['age']) if age > 25] for key, value in dictionary.items()}\n",
    "\n",
    "print(selected_dict)"
   ],
   "metadata": {
    "collapsed": false,
    "ExecuteTime": {
     "end_time": "2024-01-19T15:37:40.114797700Z",
     "start_time": "2024-01-19T15:37:40.101922400Z"
    }
   },
   "id": "c7bd4642d051017"
  },
  {
   "cell_type": "code",
   "execution_count": 39,
   "outputs": [
    {
     "name": "stdout",
     "output_type": "stream",
     "text": [
      "{'Bob': 30, 'Charlie': 35}\n"
     ]
    }
   ],
   "source": [
    "my_dict = {'Alice': 25, 'Bob': 30, 'Charlie': 35}\n",
    "\n",
    "selected_dict = {name: age for name, age in my_dict.items() if age > 25}\n",
    "\n",
    "print(selected_dict)"
   ],
   "metadata": {
    "collapsed": false,
    "ExecuteTime": {
     "end_time": "2024-01-19T15:31:39.983905200Z",
     "start_time": "2024-01-19T15:31:39.970773900Z"
    }
   },
   "id": "ecc9381423f4dd9e"
  },
  {
   "cell_type": "code",
   "execution_count": 40,
   "outputs": [
    {
     "name": "stdout",
     "output_type": "stream",
     "text": [
      "{'Bob': 30, 'Charlie': 35}\n"
     ]
    }
   ],
   "source": [
    "selected_dict = dict(filter(lambda item: item[1] > 25, my_dict.items()))\n",
    "\n",
    "print(selected_dict)"
   ],
   "metadata": {
    "collapsed": false,
    "ExecuteTime": {
     "end_time": "2024-01-19T15:31:43.941428200Z",
     "start_time": "2024-01-19T15:31:43.932764700Z"
    }
   },
   "id": "639334cbc5871b95"
  },
  {
   "cell_type": "code",
   "execution_count": 17,
   "outputs": [
    {
     "name": "stdout",
     "output_type": "stream",
     "text": [
      "{'Bob': 30, 'Charlie': 35}\n"
     ]
    }
   ],
   "source": [
    "selected_dict = {}\n",
    "for key, value in my_dict.items():\n",
    "    if value > 25:\n",
    "        selected_dict[key] = value\n",
    "\n",
    "print(selected_dict)"
   ],
   "metadata": {
    "collapsed": false,
    "ExecuteTime": {
     "end_time": "2024-01-19T15:09:27.868696500Z",
     "start_time": "2024-01-19T15:09:27.857347700Z"
    }
   },
   "id": "74930a6a8eef0b98"
  },
  {
   "cell_type": "code",
   "execution_count": null,
   "outputs": [],
   "source": [],
   "metadata": {
    "collapsed": false
   },
   "id": "ebe0039627b1230f"
  }
 ],
 "metadata": {
  "kernelspec": {
   "display_name": "Python 3",
   "language": "python",
   "name": "python3"
  },
  "language_info": {
   "codemirror_mode": {
    "name": "ipython",
    "version": 2
   },
   "file_extension": ".py",
   "mimetype": "text/x-python",
   "name": "python",
   "nbconvert_exporter": "python",
   "pygments_lexer": "ipython2",
   "version": "2.7.6"
  }
 },
 "nbformat": 4,
 "nbformat_minor": 5
}
